{
 "cells": [
  {
   "attachments": {},
   "cell_type": "markdown",
   "metadata": {},
   "source": [
    "# Coarse-graining a stiff macromolecule:\n",
    "\n",
    "- Generate an ensemble of worm-like macromolecules\n",
    "\n",
    "Consider a worm-like chain that is comprised of $N$ beads, $r_{i}$ with $i$ = 0, · · · , $N − 1$, or, equivalently, $N − 1$ bonds, $u_{i} = r_{i} − r_{i−1}$ with $i = 1$,··\n",
    "· ,$N − 1$. The length of each bond is fixed, $\\left\\lvert u_{i}\\right\\rvert  = l_{0}$, and there acts a bond-angle potential between successive bonds along the molecular backbone. The energy of a chain configuration takes the form\n",
    "\n",
    "$$\\frac{\\mathcal{H}(\\{\\mathbf{u}\\})}{k_{\\mathrm{B}} T}=-\\frac{\\epsilon_0}{l_0^2} \\sum_{i=2}^{N-1} \\mathbf{u}_i \\cdot \\mathbf{u}_{i-1}=-\\epsilon_0 \\sum_{i=2}^{N-1} \\hat{\\mathbf{u}}_i \\cdot \\hat{\\mathbf{u}}_{i-1}$$\n",
    "\n",
    "\n",
    "\n",
    "where $\\hat{\\mathbf{u}}_i$ denotes the direction of bond, $i$. Upon increasing the stiffness parameter, $\\epsilon_0$, we favor macromolecules with straight bond angles, i.e., more extended configurations. The probability of a chain configuration, $\\left\\{\\mathbf{u}_i\\right\\}$, is given by the Boltzmann weight\n",
    "\n",
    "$$\n",
    "P_0(\\{\\mathbf{u}\\})=\\frac{\\exp \\left(-\\frac{\\mathcal{H}\\left(\\left\\{\\mathbf{u}_i\\right\\}\\right)}{k_{\\mathrm{B}} T}\\right)}{\\mathcal{Z}}=\\frac{1}{\\mathcal{Z}} \\delta\\left(\\left|\\mathbf{u}_{\\mathbf{1}}\\right|-l_0\\right) \\prod_{i=2}^{N-1} e^{\\frac{\\epsilon_0}{l_0^2} \\mathbf{u}_i \\cdot \\mathbf{u}_{i-1}} \\delta\\left(\\left|\\mathbf{u}_{\\mathbf{i}}\\right|-l_0\\right)\n",
    "$$\n",
    "where $\\mathcal{Z}$ is the normalization (denoted as partition function).\n",
    "\n",
    "\n",
    "[hints: For the numerics set, $l_0=1$, i.e., measure all length scales in units of $l_0$. Use the parameters, $N=512$ and $\\epsilon_0=5$, and generate $n=1048576$ independent molecular conformations.]\n",
    "\n",
    "\n",
    "a) Generate a large sample of molecular configurations according to Equation 2\n",
    "- Generate chain configurations by starting with $\\mathbf{r}_0=\\mathbf{0}$ and $\\mathbf{r}_1=\\mathbf{u}_1$ uniformly distributed on the sphere with radius, $l_0$. Given $\\mathbf{u}_{i-1}$, the probability of $\\mathbf{u}_i$ takes the form\n",
    "$$\\begin{aligned}\n",
    "P\\left(\\mathbf{u}_i \\mid \\mathbf{u}_{i-1}\\right) \\mathrm{d}^3 \\mathbf{u}_i & \\sim e^{\\epsilon_0 \\cos \\theta} \\delta\\left(\\left|\\mathbf{u}_i\\right|-l_0^2\\right) u_i^2 \\mathrm{~d} u_i \\mathrm{~d} \\cos \\theta \\mathrm{d} \\phi \\\\\n",
    "& =\\frac{\\epsilon_0 e^{\\epsilon_0 \\cos \\theta} \\mathrm{d} \\cos \\theta}{2 \\sinh \\epsilon_0} \\frac{\\mathrm{d} \\phi}{2 \\pi}\n",
    "\\end{aligned}$$ \n",
    "where $\\theta$ denotes the angle between $\\mathbf{u}_i$ and $\\mathbf{u}_{i-1}$ (or $l_0 \\cos \\theta$ is the projection of $\\mathbf{u}_i$ onto the $\\mathbf{u}_{i-1}$-axis), and $\\phi$ is the rotation angle around the $\\mathbf{u}_{i-1}$-axis. Describe how you generate the configurations.\n",
    "\n",
    "- (alternative or bonus if both techniques are used) Write a Monte-Carlo simulation program that employs importance sampling of macromolecular configurations according to Equation 2. For example, use the snake algorithm  by choosing a chain end at random, and try to add a bead at the chosen end and remove a bead from the opposite end. Write down the detailed-balance condition to derive the acceptance criterion."
   ]
  },
  {
   "cell_type": "code",
   "execution_count": 1,
   "metadata": {},
   "outputs": [
    {
     "name": "stdout",
     "output_type": "stream",
     "text": [
      "Current time: 2023-07-06 16:50:24\n",
      "/root/vsc_projects/PhyforDS/UniKurs_Phy-for-DS/Softmatter\n",
      "[master ec09323] Automated commit - 2023-07-06 16:50:24\n",
      " 1 file changed, 3 insertions(+), 4 deletions(-)\n"
     ]
    },
    {
     "name": "stderr",
     "output_type": "stream",
     "text": [
      "To https://github.com/LukasLow/UniKurs_Phy-for-DS.git\n",
      "   ab86c8c..ec09323  master -> master\n"
     ]
    }
   ],
   "source": [
    "%%bash\n",
    "./sgh.sh"
   ]
  },
  {
   "cell_type": "code",
   "execution_count": 2,
   "metadata": {
    "editable": true,
    "slideshow": {
     "slide_type": ""
    },
    "tags": []
   },
   "outputs": [
    {
     "name": "stderr",
     "output_type": "stream",
     "text": [
      "  0%|          | 0/10000 [00:00<?, ?it/s]/tmp/ipykernel_68082/2244501317.py:21: RuntimeWarning: invalid value encountered in arccos\n",
      "  theta = np.arccos(cos_theta)\n",
      "/tmp/ipykernel_68082/2244501317.py:21: RuntimeWarning: invalid value encountered in arccos\n",
      "  theta = np.arccos(cos_theta)\n",
      "/tmp/ipykernel_68082/2244501317.py:21: RuntimeWarning: invalid value encountered in arccos\n",
      "  theta = np.arccos(cos_theta)\n",
      "/tmp/ipykernel_68082/2244501317.py:21: RuntimeWarning: invalid value encountered in arccos\n",
      "  theta = np.arccos(cos_theta)\n",
      "/tmp/ipykernel_68082/2244501317.py:21: RuntimeWarning: invalid value encountered in arccos\n",
      "  theta = np.arccos(cos_theta)\n",
      "/tmp/ipykernel_68082/2244501317.py:21: RuntimeWarning: invalid value encountered in arccos\n",
      "  theta = np.arccos(cos_theta)\n",
      "/tmp/ipykernel_68082/2244501317.py:21: RuntimeWarning: invalid value encountered in arccos\n",
      "  theta = np.arccos(cos_theta)\n",
      "/tmp/ipykernel_68082/2244501317.py:21: RuntimeWarning: invalid value encountered in arccos\n",
      "  theta = np.arccos(cos_theta)\n",
      "/tmp/ipykernel_68082/2244501317.py:21: RuntimeWarning: invalid value encountered in arccos\n",
      "  theta = np.arccos(cos_theta)\n",
      "/tmp/ipykernel_68082/2244501317.py:21: RuntimeWarning: invalid value encountered in arccos\n",
      "  theta = np.arccos(cos_theta)\n",
      "/tmp/ipykernel_68082/2244501317.py:21: RuntimeWarning: invalid value encountered in arccos\n",
      "  theta = np.arccos(cos_theta)\n",
      "/tmp/ipykernel_68082/2244501317.py:21: RuntimeWarning: invalid value encountered in arccos\n",
      "  theta = np.arccos(cos_theta)\n",
      "100%|██████████| 10000/10000 [00:10<00:00, 980.06it/s]"
     ]
    },
    {
     "name": "stdout",
     "output_type": "stream",
     "text": [
      "[[ 0.9705636   0.22859684 -0.07582738]\n",
      " [-0.6928148   0.6753124  -0.25290476]\n",
      " [-0.93690649  0.31627167 -0.14892437]\n",
      " ...\n",
      " [ 0.89176799 -0.41652303 -0.17680053]\n",
      " [-0.72148099  0.69239563 -0.00731256]\n",
      " [ 0.94603743 -0.32330161 -0.02211919]]\n"
     ]
    },
    {
     "name": "stderr",
     "output_type": "stream",
     "text": [
      "\n"
     ]
    }
   ],
   "source": [
    "import numpy as np\n",
    "from multiprocessing import Pool\n",
    "from tqdm import tqdm\n",
    "\n",
    "def generate_configuration(_):\n",
    "    # Initialize chain\n",
    "    r = np.zeros((N, 3))\n",
    "    u = np.zeros((N - 1, 3))\n",
    "\n",
    "    # Generate u_1 uniformly distributed on a sphere\n",
    "    theta = np.arccos(2 * np.random.random() - 1)\n",
    "    phi = 2 * np.pi * np.random.random()\n",
    "    u[0] = np.array([np.sin(theta) * np.cos(phi),\n",
    "                     np.sin(theta) * np.sin(phi),\n",
    "                     np.cos(theta)])\n",
    "\n",
    "    # Generate subsequent bonds\n",
    "    for i in range(1, N - 1):\n",
    "        xi = np.random.uniform(low=0, high=1/np.sinh(epsilon_0))\n",
    "        cos_theta = np.log(1 - xi * np.sinh(epsilon_0)) / epsilon_0\n",
    "        theta = np.arccos(cos_theta)\n",
    "        phi = 2 * np.pi * np.random.random()\n",
    "        u_i = np.array([np.sin(theta) * np.cos(phi),\n",
    "                        np.sin(theta) * np.sin(phi),\n",
    "                        np.cos(theta)])\n",
    "        u[i] = u_i\n",
    "\n",
    "    return u\n",
    "\n",
    "\n",
    "# Parameters\n",
    "N = 512\n",
    "epsilon_0 = 5\n",
    "# sample_size = 1048576\n",
    "sample_size = 10000\n",
    "\n",
    "# Generate molecular configurations in parallel with progress bar\n",
    "with Pool() as p, tqdm(total=sample_size) as pbar:\n",
    "    configurations = []\n",
    "    for config in p.imap_unordered(generate_configuration, range(sample_size)):\n",
    "        configurations.append(config)\n",
    "        pbar.update(1)\n",
    "\n",
    "# Access individual configurations\n",
    "print(configurations[0])  # Example: Print the first configuration"
   ]
  },
  {
   "cell_type": "code",
   "execution_count": 7,
   "metadata": {},
   "outputs": [
    {
     "data": {
      "image/png": "[encoded data removed]",
      "text/plain": [
       "<Figure size 640x480 with 1 Axes>"
      ]
     },
     "metadata": {},
     "output_type": "display_data"
    }
   ],
   "source": [
    "# Extract the positions of atoms and bond vectors\n",
    "positions = np.zeros((N, 3))\n",
    "bond_vectors = np.zeros((N - 1, 3))\n",
    "\n",
    "positions[0] = np.array([0, 0, 0])\n",
    "for i in range(1, N):\n",
    "    bond_vectors[i - 1] = configuration[i - 1][0]  # Assign bond vector\n",
    "    positions[i] = positions[i - 1] + bond_vectors[i - 1]\n",
    "\n",
    "# Plot the molecular configuration\n",
    "fig = plt.figure()\n",
    "ax = fig.add_subplot(111, projection='3d')\n",
    "\n",
    "# Plot atoms\n",
    "ax.scatter(positions[:, 0], positions[:, 1], positions[:, 2], c='red', s=100)\n",
    "\n",
    "# Plot bonds\n",
    "for i in range(N - 1):\n",
    "    start = positions[i]\n",
    "    end = positions[i + 1]\n",
    "    ax.plot([start[0], end[0]], [start[1], end[1]], [start[2], end[2]], color='blue')\n",
    "\n",
    "# Set plot limits and labels\n",
    "ax.set_xlim([-50, 50])\n",
    "ax.set_ylim([-50, 50])\n",
    "ax.set_zlim([-50, 50])\n",
    "ax.set_xlabel('X')\n",
    "ax.set_ylabel('Y')\n",
    "ax.set_zlabel('Z')\n",
    "\n",
    "# Show the plot\n",
    "plt.show()\n"
   ]
  },
  {
   "attachments": {},
   "cell_type": "markdown",
   "metadata": {},
   "source": [
    "# New"
   ]
  },
  {
   "cell_type": "code",
   "execution_count": null,
   "metadata": {},
   "outputs": [],
   "source": [
    "import numpy as np\n",
    "from multiprocessing import Pool\n",
    "from tqdm import tqdm\n",
    "\n",
    "def generate_configuration(_):\n",
    "    # Initialize chain\n",
    "    r = np.zeros((N, 3))\n",
    "    u = np.zeros((N - 1, 3))\n",
    "\n",
    "    # Generate u_1 uniformly distributed on a sphere\n",
    "    theta = np.arccos(2 * np.random.random() - 1)\n",
    "    phi = 2 * np.pi * np.random.random()\n",
    "    u[0] = np.array([np.sin(theta) * np.cos(phi),\n",
    "                     np.sin(theta) * np.sin(phi),\n",
    "                     np.cos(theta)])\n",
    "\n",
    "    # Generate subsequent bonds\n",
    "    for i in range(1, N - 1):\n",
    "        xi = np.random.uniform(low=0, high=1)\n",
    "        cos_theta = 2 * xi - 1\n",
    "        theta = np.arccos(cos_theta)\n",
    "        phi = 2 * np.pi * np.random.random()\n",
    "        u_i = np.array([np.sin(theta) * np.cos(phi),\n",
    "                        np.sin(theta) * np.sin(phi),\n",
    "                        np.cos(theta)])\n",
    "        u[i] = u_i\n",
    "\n",
    "    return u\n",
    "\n",
    "\n",
    "# Parameters\n",
    "N = 100  # Adjust the chain length as needed\n",
    "sample_size = 10  # Adjust the sample size as needed\n",
    "\n",
    "# Generate molecular configurations in parallel with progress bar\n",
    "with Pool() as p, tqdm(total=sample_size) as pbar:\n",
    "    configurations = []\n",
    "    for config in p.imap_unordered(generate_configuration, range(sample_size)):\n",
    "        configurations.append(config)\n",
    "        pbar.update(1)\n",
    "\n",
    "# Access individual configurations\n",
    "print(configurations[0])  # Example: Print the first configuration\n"
   ]
  },
  {
   "cell_type": "code",
   "execution_count": null,
   "metadata": {},
   "outputs": [],
   "source": [
    "import numpy as np\n",
    "import matplotlib.pyplot as plt\n",
    "\n",
    "# Access the first configuration\n",
    "configuration = configurations[0]\n",
    "\n",
    "# Extract the positions of atoms and bond vectors\n",
    "positions = np.zeros((N, 3))\n",
    "bond_vectors = np.zeros((N - 1, 3))\n",
    "\n",
    "positions[0] = np.array([0, 0, 0])\n",
    "for i in range(1, N):\n",
    "    bond_vectors[i - 1] = configuration[i - 1]\n",
    "    positions[i] = positions[i - 1] + bond_vectors[i - 1]\n",
    "\n",
    "# Plot the molecular configuration\n",
    "fig = plt.figure()\n",
    "ax = fig.add_subplot(111, projection='3d')\n",
    "\n",
    "# Plot atoms\n",
    "ax.scatter(positions[:, 0], positions[:, 1], positions[:, 2], c='red', s=100)\n",
    "\n",
    "# Plot bonds\n",
    "for i in range(N - 1):\n",
    "    start = positions[i]\n",
    "    end = positions[i + 1]\n",
    "    ax.plot([start[0], end[0]], [start[1], end[1]], [start[2], end[2]], color='blue')\n",
    "\n",
    "# Set plot limits and labels\n",
    "ax.set_xlim([-1, 1])\n",
    "ax.set_ylim([-1, 1])\n",
    "ax.set_zlim([-1, 1])\n",
    "ax.set_xlabel('X')\n",
    "ax.set_ylabel('Y')\n",
    "ax.set_zlabel('Z')\n",
    "\n",
    "# Show the plot\n",
    "plt.show()\n"
   ]
  },
  {
   "cell_type": "code",
   "execution_count": null,
   "metadata": {},
   "outputs": [],
   "source": [
    "%%bash\n",
    "/root/vsc_projects/PhyforDS/UniKurs_Phy-for-DS/Softmatter/sgh.sh"
   ]
  },
  {
   "cell_type": "code",
   "execution_count": null,
   "metadata": {},
   "outputs": [],
   "source": [
    "print(configurations[0])  # Example: Print the first configuration"
   ]
  },
  {
   "cell_type": "code",
   "execution_count": null,
   "metadata": {},
   "outputs": [],
   "source": [
    "# Save configurations to a file\n",
    "filename = \"molecular_configurationsrs.npy\"\n",
    "np.save(filename, configurations)\n",
    "print(f\"Saved {len(configurations)} configurations to {filename}.\")"
   ]
  },
  {
   "cell_type": "code",
   "execution_count": null,
   "metadata": {},
   "outputs": [],
   "source": [
    "%%bash\n",
    "/root/vsc_projects/PhyforDS/UniKurs_Phy-for-DS/Softmatter/sgh.sh"
   ]
  },
  {
   "attachments": {},
   "cell_type": "markdown",
   "metadata": {},
   "source": [
    "---------\n",
    "\n",
    "b) Calculate averages and statistical errors of the following quantities and compare them to the exact results (where available)\n",
    "- average bond-angle\n",
    "$$\n",
    "\\langle\\cos \\theta\\rangle=\\frac{\\left(\\epsilon_0-1\\right) e^{\\epsilon_0}+\\left(\\epsilon_0+1\\right)^{-\\epsilon_0}}{2 \\epsilon_0 \\sinh \\epsilon_0}=\\frac{1-\\frac{1}{\\epsilon_0}+\\left(1+\\frac{1}{\\epsilon_0}\\right) e^{-2 \\epsilon_0}}{1-e^{-2 \\epsilon_0}}\n",
    "$$\n",
    "- bond-angle correlation along the macromolecule\n",
    "$$\n",
    "C(\\Delta i)=\\frac{\\left\\langle\\mathbf{u}_i \\cdot \\mathbf{u}_{i+\\Delta i}\\right\\rangle}{l_0^2}=\\langle\\cos \\theta\\rangle^{|\\Delta i|}=e^{-\\frac{l_0|\\Delta i|}{l_p}} \\quad \\text { with } l_p=-\\frac{l_0}{\\ln \\langle\\cos \\theta\\rangle}\n",
    "$$\n",
    "where $l_p$ is called the persistence length.\n",
    "- mean-square end-to-end distance, $\\left\\langle R_{\\mathrm{EE}}^2\\right\\rangle \\equiv\\left\\langle\\left(\\mathbf{r}_{N-1}-\\mathbf{r}_0\\right)^2\\right\\rangle=\\left\\langle\\left(\\sum_{i=1}^{N-1} \\mathbf{u}_i\\right)^2\\right\\rangle$\n",
    "$$\n",
    "\\begin{aligned}\n",
    "& \\left\\langle R_{\\mathrm{EE}}^2\\right\\rangle=(N-1) l_0^2\\left(\\frac{1+\\langle\\cos \\theta\\rangle}{1-\\langle\\cos \\theta\\rangle}-\\frac{2\\langle\\cos \\theta\\rangle}{N-1} \\frac{1-\\langle\\cos \\theta\\rangle^{N-1}}{(1-\\langle\\cos \\theta\\rangle)^2}\\right) \\\\\n",
    "& \\stackrel{l_p \\gg l_0}{\\approx} 2 L l_p\\left(1-\\frac{l_p}{L}\\left[1-e^{-L / l_p}\\right]\\right) \\\\\n",
    "&\n",
    "\\end{aligned}\n",
    "$$\n",
    "where $L=(N-1) l_0$ denotes the contour length of the chain molecules.\n",
    "\n"
   ]
  },
  {
   "cell_type": "code",
   "execution_count": null,
   "metadata": {},
   "outputs": [],
   "source": [
    "import numpy as np\n",
    "from scipy.spatial.transform import Rotation as R\n",
    "from multiprocessing import Pool\n",
    "from tqdm import tqdm\n",
    "from sklearn.utils import resample\n",
    "\n",
    "configurations = np.load(\"molecular_configurationsrs.npy\")\n",
    "\n",
    "print(configurations[0])  # Example: Print the first configuration\n",
    "\n",
    "print(np.isnan(configurations).any())\n",
    "\n",
    "# Remove all NaN in Data\n",
    "mask = ~np.isnan(configurations).any(axis=(1,2))\n",
    "configurations = configurations[mask]\n",
    "\n",
    "print(\"Shape of the array: \", configurations.shape)\n",
    "\n",
    "for i in range(len(configurations.shape)):\n",
    "    print(f\"Number of NaN values along axis {i}: \", np.isnan(configurations).sum(axis=i))\n",
    "\n",
    "\n",
    "def calculate_averages(configurations):\n",
    "    num_configurations = len(configurations)\n",
    "    cos_thetas = []\n",
    "    u_dot_u_deltas = []\n",
    "    R_EE_squares = []\n",
    "\n",
    "    # Calculate quantities for each configuration\n",
    "    for config in configurations:\n",
    "        # Calculate cos_theta for each bond\n",
    "        cos_theta = np.sum(config[:-1] * config[1:], axis=1)\n",
    "        cos_thetas.append(cos_theta)\n",
    "\n",
    "        # Calculate u_i.u_{i+Delta_i} for each pair of bonds\n",
    "        u_dot_u_delta = np.sum(config[:-2] * config[2:], axis=1)\n",
    "        u_dot_u_deltas.append(u_dot_u_delta)\n",
    "\n",
    "        # Calculate R_EE^2 for the chain\n",
    "        R_EE_square = np.sum((config[-1] - config[0])**2)\n",
    "        R_EE_squares.append(R_EE_square)\n",
    "\n",
    "    cos_thetas = np.concatenate(cos_thetas)\n",
    "    u_dot_u_deltas = np.concatenate(u_dot_u_deltas)\n",
    "\n",
    "    # Calculate averages\n",
    "    average_cos_theta = np.mean(cos_thetas)\n",
    "    average_u_dot_u_delta = np.mean(u_dot_u_deltas)\n",
    "    average_R_EE_square = np.mean(R_EE_squares)\n",
    "\n",
    "    # Estimate errors using bootstrap resampling\n",
    "    cos_theta_err = np.std(resample(cos_thetas, replace=True, n_samples=num_configurations))\n",
    "    u_dot_u_delta_err = np.std(resample(u_dot_u_deltas, replace=True, n_samples=num_configurations))\n",
    "    R_EE_square_err = np.std(resample(R_EE_squares, replace=True, n_samples=num_configurations))\n",
    "\n",
    "    return average_cos_theta, cos_theta_err, average_u_dot_u_delta, u_dot_u_delta_err, average_R_EE_square, R_EE_square_err\n",
    "\n",
    "average_cos_theta, cos_theta_err, average_u_dot_u_delta, u_dot_u_delta_err, average_R_EE_square, R_EE_square_err = calculate_averages(configurations)\n",
    "\n",
    "print(f\"Average cos(theta) = {average_cos_theta} ± {cos_theta_err}\")\n",
    "print(f\"Average u_i.u_(i+Delta_i) = {average_u_dot_u_delta} ± {u_dot_u_delta_err}\")\n",
    "print(f\"Average R_EE^2 = {average_R_EE_square} ± {R_EE_square_err}\")\n",
    "\n",
    "\n",
    "# Calculate averages and statistical errors\n",
    "average_cos_theta, cos_theta_err, average_u_dot_u_delta, u_dot_u_delta_err, average_R_EE_square, R_EE_square_err = calculate_averages(configurations)\n",
    "\n",
    "# Save results to a text file\n",
    "with open('averages_and_errors.txt', 'w') as f:\n",
    "    f.write(f\"Average cos(theta) = {average_cos_theta} ± {cos_theta_err}\\n\")\n",
    "    f.write(f\"Average u_i.u_(i+Delta_i) = {average_u_dot_u_delta} ± {u_dot_u_delta_err}\\n\")\n",
    "    f.write(f\"Average R_EE^2 = {average_R_EE_square} ± {R_EE_square_err}\\n\")\n",
    "\n",
    "print(\"Averages and errors have been saved to 'averages_and_errors.txt'\")\n"
   ]
  },
  {
   "cell_type": "code",
   "execution_count": null,
   "metadata": {},
   "outputs": [],
   "source": [
    "%%bash\n",
    "/root/vsc_projects/PhyforDS/UniKurs_Phy-for-DS/Softmatter/sgh.sh"
   ]
  },
  {
   "attachments": {},
   "cell_type": "markdown",
   "metadata": {},
   "source": [
    "----------\n",
    "\n",
    "c) Generate a joint sequence of the polymer's square end-to-end distance, $R_{\\mathrm{EE}}^2(t)$, and the bond-angle energy, $\\mathcal{H}(\\{\\mathbf{u}(t)\\})$, according to Equation 1. $t$ denotes the index of the configuration in the sequence. Use single-histogram extrapolation\n",
    "$$\n",
    "\\begin{aligned}\n",
    "\\left\\langle R_{\\mathrm{EE}}^2\\right\\rangle_{\\epsilon_0^{\\prime}} & =\\frac{\\left\\langle e^{\\frac{\\left(\\epsilon_0^{\\prime}-\\epsilon_0\\right)}{l_0^2} \\sum_i \\mathbf{u}_i \\cdot \\mathbf{u}_{i-1}} R_{\\mathrm{EE}}^2(\\{\\mathbf{u}\\})\\right\\rangle_\\epsilon}{\\left\\langle e^{\\frac{\\left(\\epsilon_0^{\\prime}-\\epsilon_0\\right)}{l_0^2} \\sum_i \\mathbf{u}_i \\cdot \\mathbf{u}_{i-1}}\\right\\rangle_\\epsilon} \\\\\n",
    "& \\approx \\frac{\\sum_t e^{\\frac{\\left(\\epsilon_0^{\\prime}-\\epsilon_0\\right)}{l_0^2} \\sum_i\\left[\\mathbf{u}_i(t) \\cdot \\mathbf{u}_{i-1}(t)-c\\right]} R_{\\mathrm{EE}}^2(\\{\\mathbf{u}(t)\\})}{\\sum_t e^{\\frac{\\left(\\epsilon_0^{\\prime}-\\epsilon_0\\right)}{l_0^2} \\sum_i\\left[\\mathbf{u}_i(t) \\cdot \\mathbf{u}_{i-1}(t)-c\\right]}}\n",
    "\\end{aligned}\n",
    "$$\n",
    "to validate your sample of generated configurations by comparing the meansquare end-to-end distance at two, neighboring values of the stiffness parameter, $\\epsilon_0^{\\prime}$ and $\\epsilon_0$. In the last step we have approximated the integral over configuration space by the sum over the sequence. $c \\approx\\left\\langle\\mathbf{u}_i \\cdot \\mathbf{u}_{i-1}\\right\\rangle=l_0^2\\langle\\cos \\theta\\rangle$ is a constant to avoid over/underflow issues.\n",
    "[hint: choose $\\epsilon^{\\prime}=\\epsilon \\pm 0.25$ ]\n",
    "\n"
   ]
  },
  {
   "cell_type": "code",
   "execution_count": null,
   "metadata": {},
   "outputs": [],
   "source": [
    "def calculate_REE_and_H(configurations, epsilon_0, epsilon_0_prime, l_0, c):\n",
    "    num_configurations = len(configurations)\n",
    "    R_EE_squares = []\n",
    "    Hs = []\n",
    "\n",
    "    # Calculate quantities for each configuration\n",
    "    for config in configurations:\n",
    "        # Calculate R_EE^2 for the chain\n",
    "        R_EE_square = np.sum((config[-1] - config[0])**2)\n",
    "        R_EE_squares.append(R_EE_square)\n",
    "\n",
    "        # Calculate bond-angle energy for the chain\n",
    "        H = np.sum(config[:-1] * config[1:]) - c\n",
    "        Hs.append(H)\n",
    "\n",
    "    # Use single-histogram extrapolation to calculate <R_EE^2>_{epsilon_0'}\n",
    "    exp_factor = np.exp((epsilon_0_prime - epsilon_0) / l_0**2 * np.array(Hs))\n",
    "    average_REE_square_prime = np.sum(exp_factor * R_EE_squares) / np.sum(exp_factor)\n",
    "\n",
    "    return average_REE_square_prime"
   ]
  },
  {
   "cell_type": "code",
   "execution_count": null,
   "metadata": {},
   "outputs": [],
   "source": [
    "%%bash\n",
    "/root/vsc_projects/PhyforDS/UniKurs_Phy-for-DS/Softmatter/sgh.sh"
   ]
  },
  {
   "attachments": {},
   "cell_type": "markdown",
   "metadata": {},
   "source": [
    "--------\n",
    "- Coarse grain the macromolecular configurations\n",
    "by defining new, coarse-grained bead positions and bond vectors, according to\n",
    "$$\n",
    "\\mathbf{R}_J=\\mathbf{r}_{(J+1 / 2) 2^\\lambda} \\quad \\text { and } \\quad \\mathbf{U}_J=\\mathbf{R}_J-\\mathbf{R}_{J-1}=\\sum_{i=J 2^\\lambda}^{(J+1) 2^\\lambda-1} \\mathbf{u}_i\n",
    "$$\n",
    "\n",
    "where the degree of coarse-graining, $2^\\lambda$, is a power of 2 . We seek an approximate description of these coarse-grained configurations, $\\mathbf{U}_J$ with $J=1, \\cdots, N_\\lambda-1$ and $N_\\lambda=N / 2^\\lambda$, by a probability distribution of the form\n",
    "$$\n",
    "P_\\lambda(\\{\\mathbf{U}\\}) \\sim \\mathcal{L}_\\lambda\\left(\\left|\\mathbf{U}_1\\right|\\right) \\prod_{J=2}^{N_\\lambda-1} e^{\\epsilon_\\lambda \\frac{\\mathbf{U}_J \\cdot \\mathbf{U}_{J-1}}{\\sqrt{\\mathbf{U}_J^2 \\mathbf{U}_{J-1}^2}}} \\mathcal{L}_\\lambda\\left(\\left|\\mathbf{U}_J\\right|\\right)=\\mathcal{L}_\\lambda\\left(U_1 \\mid\\right) \\prod_{J=2}^{N_\\lambda-1} e^{\\epsilon_\\lambda} \\hat{\\mathbf{U}}_J \\cdot \\hat{\\mathbf{U}}_{J-1} \\mathcal{L}_\\lambda\\left(U_J\\right)\n",
    "$$\n",
    "where $\\hat{\\mathbf{U}}_J$ and $U_J$ are the direction and the length of the coarse-grained bond, respectively. $\\mathcal{L}_\\lambda(U)$ denotes the length distribution of a coarse-grained bond and it takes the form\n",
    "$$\n",
    "\\mathcal{L}_\\lambda(U) \\sim e^{-\\frac{3\\left(U-l_\\lambda\\right)^2}{2 \\sigma_\\lambda^2}} U^2\n",
    "$$\n",
    "Equivalently, the coarse-grained Hamiltonian is of the form\n",
    "$$\n",
    "\\frac{\\mathcal{H}_{\\mathrm{cg}}(\\{\\mathbf{U}\\})}{k_{\\mathrm{B}} T}=\\sum_{J=1}^{N_\\lambda-1} \\frac{3\\left(\\left|\\mathbf{U}_J\\right|-l_\\lambda\\right)^2}{2 \\sigma_\\lambda^2}-\\epsilon_\\lambda \\sum_{J=2}^{N_\\lambda-1} \\hat{\\mathbf{U}}_J \\cdot \\hat{\\mathbf{U}}_{J-1}\n",
    "$$\n",
    "Thus, the coarse-grained distribution is characterized by 3 parameters, $\\epsilon_\\lambda, l_\\lambda$, and $\\sigma_\\lambda$. The original probability distribution, $P_1$ for $\\lambda=1$, corresponds to $\\epsilon_\\lambda=\\epsilon, l_\\lambda=l_0$, and $\\sigma_\\lambda \\rightarrow 0$. The goal of this second part of the exercise is to explicitly show that for $1 \\ll \\lambda \\ll N$, the coarse-grained probability distribution is characterized by $\\epsilon_\\lambda \\rightarrow 0$, $l_\\lambda \\rightarrow 0$, and $\\sigma_\\lambda^2 \\rightarrow\\left\\langle R_{\\mathrm{EE}}^2\\right\\rangle /\\left(N_\\lambda-1\\right)$, i.e., the coarse-grained bonds are Gaussian distributed (cf. central limit theorem)\n",
    "$$\n",
    "\\begin{aligned}\n",
    "P_\\lambda(\\{\\mathbf{U}\\}) \\mathrm{d}\\{\\mathbf{U}\\} & \\rightarrow \\prod_{J=1}^{N_\\lambda-1}\\left(\\frac{3\\left(N_\\lambda-1\\right)}{2 \\pi\\left\\langle R_{\\mathrm{EE}}^2\\right\\rangle}\\right)^{3 / 2} e^{-\\frac{3\\left(N_\\lambda-1\\right) U_J^2}{2\\left\\langle R_{\\mathrm{EE}}^2\\right\\rangle}} U_J^2 \\mathrm{~d} U_J \\mathrm{~d} \\phi_J \\mathrm{~d} \\cos \\theta_J \\\\\n",
    "& =\\left(\\frac{3\\left(N_\\lambda-1\\right)}{2 \\pi\\left\\langle R_{\\mathrm{EE}}^2\\right\\rangle}\\right)^{3\\left(N_\\lambda-1\\right) / 2} e^{-\\frac{3\\left(N_\\lambda-1\\right)}{2\\left\\langle R_{\\mathrm{EE}}^2\\right\\rangle} \\sum_{J=1}^{N_\\lambda-1} \\mathbf{U}_J^2} \\mathrm{~d}\\{\\mathbf{U}\\}\n",
    "\\end{aligned}\n",
    "$$"
   ]
  },
  {
   "cell_type": "code",
   "execution_count": null,
   "metadata": {},
   "outputs": [],
   "source": [
    "def coarse_grain(configurations, lambda_):\n",
    "    coarse_grained_configurations = []\n",
    "\n",
    "    for config in configurations:\n",
    "        N = len(config)\n",
    "        N_lambda = N // 2**lambda_\n",
    "        coarse_grained_config = np.zeros((N_lambda, 3))\n",
    "\n",
    "        for J in range(N_lambda):\n",
    "            coarse_grained_config[J] = np.sum(config[J*2**lambda_:(J+1)*2**lambda_], axis=0)\n",
    "\n",
    "        coarse_grained_configurations.append(coarse_grained_config)\n",
    "\n",
    "    return coarse_grained_configurations\n"
   ]
  },
  {
   "cell_type": "code",
   "execution_count": null,
   "metadata": {},
   "outputs": [],
   "source": [
    "%%bash\n",
    "/root/vsc_projects/PhyforDS/UniKurs_Phy-for-DS/Softmatter/sgh.sh"
   ]
  },
  {
   "attachments": {},
   "cell_type": "markdown",
   "metadata": {},
   "source": [
    "--------------\n",
    "a) Calculate the length distribution, $\\mathcal{L}_\\lambda(U)$, of the new, coarse-grained bond vectors for various degrees of coarse-graining, $2^\\lambda=(1), 2,4,8,16,32,64,128$, and determine the parameters $l_\\lambda$ and $\\sigma_\\lambda^2$ as a function of $2^\\lambda$."
   ]
  },
  {
   "cell_type": "code",
   "execution_count": null,
   "metadata": {},
   "outputs": [],
   "source": [
    "import scipy.stats as stats\n",
    "\n",
    "def calculate_length_distribution(coarse_grained_configurations):\n",
    "    lengths = []\n",
    "\n",
    "    for config in coarse_grained_configurations:\n",
    "        lengths.append(np.linalg.norm(config, axis=1))\n",
    "\n",
    "    lengths = np.concatenate(lengths)\n",
    "\n",
    "    l_lambda = np.mean(lengths)\n",
    "    sigma_lambda = np.std(lengths)\n",
    "\n",
    "    return l_lambda, sigma_lambda\n"
   ]
  },
  {
   "cell_type": "code",
   "execution_count": null,
   "metadata": {},
   "outputs": [],
   "source": [
    "%%bash\n",
    "/root/vsc_projects/PhyforDS/UniKurs_Phy-for-DS/Softmatter/sgh.sh"
   ]
  },
  {
   "attachments": {},
   "cell_type": "markdown",
   "metadata": {},
   "source": [
    "--------------\n",
    "b) Calculate the coarse-grained bond-angle autocorrelation function\n",
    "$$\n",
    "C_\\lambda(\\Delta J)=\\left\\langle\\hat{\\mathbf{U}}_J \\cdot \\hat{\\mathbf{U}}_{J+\\Delta J}\\right\\rangle\n",
    "$$\n",
    "and estimate from these data the parameter $\\epsilon_\\lambda$.\n"
   ]
  },
  {
   "cell_type": "code",
   "execution_count": null,
   "metadata": {},
   "outputs": [],
   "source": [
    "def calculate_bond_angle_autocorrelation(coarse_grained_configurations, Delta_J):\n",
    "    autocorrelations = []\n",
    "\n",
    "    for config in coarse_grained_configurations:\n",
    "        N_lambda = len(config)\n",
    "        autocorrelations = []\n",
    "\n",
    "        for config in coarse_grained_configurations:\n",
    "            N_lambda = len(config)\n",
    "            autocorrelation = 0\n",
    "\n",
    "            for J in range(N_lambda - Delta_J):\n",
    "                u_J = config[J] / np.linalg.norm(config[J])\n",
    "                u_J_plus_Delta_J = config[J + Delta_J] / np.linalg.norm(config[J + Delta_J])\n",
    "                autocorrelation += np.dot(u_J, u_J_plus_Delta_J)\n",
    "\n",
    "            autocorrelation /= (N_lambda - Delta_J)\n",
    "            autocorrelations.append(autocorrelation)\n",
    "\n",
    "    C_lambda = np.mean(autocorrelations)\n",
    "\n",
    "    return C_lambda\n"
   ]
  },
  {
   "cell_type": "code",
   "execution_count": null,
   "metadata": {},
   "outputs": [],
   "source": [
    "%%bash\n",
    "/root/vsc_projects/PhyforDS/UniKurs_Phy-for-DS/Softmatter/sgh.sh"
   ]
  },
  {
   "attachments": {},
   "cell_type": "markdown",
   "metadata": {},
   "source": [
    "--------------\n",
    "c) Graphically represent the variation of $\\left(\\epsilon_\\lambda, l_\\lambda, \\sigma_\\lambda^2 2^{-\\lambda}\\right)$ as a function of $2^{-\\lambda}$-this is called the renormalization group flow."
   ]
  },
  {
   "cell_type": "code",
   "execution_count": null,
   "metadata": {},
   "outputs": [],
   "source": [
    "import matplotlib.pyplot as plt\n",
    "\n",
    "def plot_RG_flow(lambdas, epsilons, l_lambdas, sigma_lambdas):\n",
    "    x_values = 2**(-np.array(lambdas))\n",
    "\n",
    "    plt.figure(figsize=(10, 6))\n",
    "\n",
    "    plt.plot(x_values, epsilons, label=\"epsilon\")\n",
    "    plt.plot(x_values, l_lambdas, label=\"l\")\n",
    "    plt.plot(x_values, sigma_lambdas**2 * x_values, label=\"sigma^2 * 2^-lambda\")\n",
    "\n",
    "    plt.xscale('log')\n",
    "    plt.yscale('log')\n",
    "\n",
    "    plt.xlabel(\"2^-lambda\")\n",
    "    plt.ylabel(\"Value\")\n",
    "\n",
    "    plt.legend()\n",
    "\n",
    "    plt.show()"
   ]
  },
  {
   "cell_type": "code",
   "execution_count": null,
   "metadata": {},
   "outputs": [],
   "source": [
    "from multiprocessing import Pool\n",
    "from tqdm import tqdm\n",
    "\n",
    "def calculate_quantities(lambda_):\n",
    "    # Coarse grain the configurations\n",
    "    coarse_grained_configurations = coarse_grain(configurations, lambda_)\n",
    "\n",
    "    # Calculate l_lambda and sigma_lambda\n",
    "    l_lambda, sigma_lambda = calculate_length_distribution(coarse_grained_configurations)\n",
    "\n",
    "    # Calculate epsilon_lambda (autocorrelation of the unit vectors)\n",
    "    # Note: you might want to choose an appropriate value for Delta_J\n",
    "    Delta_J = 1\n",
    "    epsilon_lambda = calculate_bond_angle_autocorrelation(coarse_grained_configurations, Delta_J)\n",
    "\n",
    "    return epsilon_lambda, l_lambda, sigma_lambda\n",
    "\n",
    "# This is the range of lambda values you're interested in\n",
    "lambdas = range(0, 8)\n",
    "\n",
    "# Here, I'm initializing lists to hold the calculated quantities for each lambda\n",
    "epsilons = []\n",
    "l_lambdas = []\n",
    "sigma_lambdas = []\n",
    "\n",
    "# Load or generate your initial polymer configurations\n",
    "# configurations = ...\n",
    "\n",
    "# Create a Pool object\n",
    "with Pool() as p:\n",
    "    # map applies the function to all inputs, but p.imap_unordered applies it to all inputs in parallel.\n",
    "    # tqdm(list(...)) will display a progress bar for the computations.\n",
    "    results = list(tqdm(p.imap(calculate_quantities, lambdas), total=len(lambdas)))\n",
    "\n",
    "# Now, we can split the results into separate lists for each quantity\n",
    "epsilons, l_lambdas, sigma_lambdas = zip(*results)\n",
    "\n",
    "# Now you can plot the RG flow\n",
    "plot_RG_flow(lambdas, epsilons, l_lambdas, sigma_lambdas)\n"
   ]
  },
  {
   "cell_type": "code",
   "execution_count": null,
   "metadata": {},
   "outputs": [],
   "source": [
    "%%bash\n",
    "/root/vsc_projects/PhyforDS/UniKurs_Phy-for-DS/Softmatter/sgh.sh"
   ]
  },
  {
   "attachments": {},
   "cell_type": "markdown",
   "metadata": {
    "editable": true,
    "slideshow": {
     "slide_type": ""
    },
    "tags": []
   },
   "source": []
  }
 ],
 "metadata": {
  "kernelspec": {
   "display_name": "Python 3 (ipykernel)",
   "language": "python",
   "name": "python3"
  },
  "language_info": {
   "codemirror_mode": {
    "name": "ipython",
    "version": 3
   },
   "file_extension": ".py",
   "mimetype": "text/x-python",
   "name": "python",
   "nbconvert_exporter": "python",
   "pygments_lexer": "ipython3",
   "version": "3.9.2"
  }
 },
 "nbformat": 4,
 "nbformat_minor": 4
}
