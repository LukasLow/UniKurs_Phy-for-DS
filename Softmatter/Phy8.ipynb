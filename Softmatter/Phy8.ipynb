{
 "cells": [
  {
   "attachments": {},
   "cell_type": "markdown",
   "metadata": {},
   "source": [
    "# Coarse-graining a stiff macromolecule:\n",
    "\n",
    "- Generate an ensemble of worm-like macromolecules\n",
    "\n",
    "Consider a worm-like chain that is comprised of $N$ beads, $r_{i}$ with $i$ = 0, · · · , $N − 1$, or, equivalently, $N − 1$ bonds, $u_{i} = r_{i} − r_{i−1}$ with $i = 1$,··\n",
    "· ,$N − 1$. The length of each bond is fixed, $\\left\\lvert u_{i}\\right\\rvert  = l_{0}$, and there acts a bond-angle potential between successive bonds along the molecular backbone. The energy of a chain configuration takes the form\n",
    "\n",
    "$$\\frac{\\mathcal{H}(\\{\\mathbf{u}\\})}{k_{\\mathrm{B}} T}=-\\frac{\\epsilon_0}{l_0^2} \\sum_{i=2}^{N-1} \\mathbf{u}_i \\cdot \\mathbf{u}_{i-1}=-\\epsilon_0 \\sum_{i=2}^{N-1} \\hat{\\mathbf{u}}_i \\cdot \\hat{\\mathbf{u}}_{i-1}$$\n",
    "\n",
    "\n",
    "\n",
    "where $\\hat{\\mathbf{u}}_i$ denotes the direction of bond, $i$. Upon increasing the stiffness parameter, $\\epsilon_0$, we favor macromolecules with straight bond angles, i.e., more extended configurations. The probability of a chain configuration, $\\left\\{\\mathbf{u}_i\\right\\}$, is given by the Boltzmann weight\n",
    "\n",
    "$$\n",
    "P_0(\\{\\mathbf{u}\\})=\\frac{\\exp \\left(-\\frac{\\mathcal{H}\\left(\\left\\{\\mathbf{u}_i\\right\\}\\right)}{k_{\\mathrm{B}} T}\\right)}{\\mathcal{Z}}=\\frac{1}{\\mathcal{Z}} \\delta\\left(\\left|\\mathbf{u}_{\\mathbf{1}}\\right|-l_0\\right) \\prod_{i=2}^{N-1} e^{\\frac{\\epsilon_0}{l_0^2} \\mathbf{u}_i \\cdot \\mathbf{u}_{i-1}} \\delta\\left(\\left|\\mathbf{u}_{\\mathbf{i}}\\right|-l_0\\right)\n",
    "$$\n",
    "where $\\mathcal{Z}$ is the normalization (denoted as partition function).\n",
    "\n",
    "\n",
    "[hints: For the numerics set, $l_0=1$, i.e., measure all length scales in units of $l_0$. Use the parameters, $N=512$ and $\\epsilon_0=5$, and generate $n=1048576$ independent molecular conformations.]\n",
    "\n",
    "\n",
    "a) Generate a large sample of molecular configurations according to Equation 2\n",
    "- Generate chain configurations by starting with $\\mathbf{r}_0=\\mathbf{0}$ and $\\mathbf{r}_1=\\mathbf{u}_1$ uniformly distributed on the sphere with radius, $l_0$. Given $\\mathbf{u}_{i-1}$, the probability of $\\mathbf{u}_i$ takes the form\n",
    "$$\\begin{aligned}\n",
    "P\\left(\\mathbf{u}_i \\mid \\mathbf{u}_{i-1}\\right) \\mathrm{d}^3 \\mathbf{u}_i & \\sim e^{\\epsilon_0 \\cos \\theta} \\delta\\left(\\left|\\mathbf{u}_i\\right|-l_0^2\\right) u_i^2 \\mathrm{~d} u_i \\mathrm{~d} \\cos \\theta \\mathrm{d} \\phi \\\\\n",
    "& =\\frac{\\epsilon_0 e^{\\epsilon_0 \\cos \\theta} \\mathrm{d} \\cos \\theta}{2 \\sinh \\epsilon_0} \\frac{\\mathrm{d} \\phi}{2 \\pi}\n",
    "\\end{aligned}$$ \n",
    "where $\\theta$ denotes the angle between $\\mathbf{u}_i$ and $\\mathbf{u}_{i-1}$ (or $l_0 \\cos \\theta$ is the projection of $\\mathbf{u}_i$ onto the $\\mathbf{u}_{i-1}$-axis), and $\\phi$ is the rotation angle around the $\\mathbf{u}_{i-1}$-axis. Describe how you generate the configurations.\n",
    "\n",
    "- (alternative or bonus if both techniques are used) Write a Monte-Carlo simulation program that employs importance sampling of macromolecular configurations according to Equation 2. For example, use the snake algorithm  by choosing a chain end at random, and try to add a bead at the chosen end and remove a bead from the opposite end. Write down the detailed-balance condition to derive the acceptance criterion."
   ]
  },
  {
   "cell_type": "code",
   "execution_count": 1,
   "metadata": {},
   "outputs": [
    {
     "name": "stdout",
     "output_type": "stream",
     "text": [
      "Current time: 2023-07-06 17:20:24\n",
      "/root/vsc_projects/PhyforDS/UniKurs_Phy-for-DS/Softmatter\n",
      "[master 2dc4b64] Automated commit - 2023-07-06 17:20:24\n",
      " 1 file changed, 91 insertions(+), 7 deletions(-)\n"
     ]
    },
    {
     "name": "stderr",
     "output_type": "stream",
     "text": [
      "To https://github.com/LukasLow/UniKurs_Phy-for-DS.git\n",
      "   b890f61..2dc4b64  master -> master\n"
     ]
    }
   ],
   "source": [
    "%%bash\n",
    "./sgh.sh"
   ]
  },
  {
   "cell_type": "code",
   "execution_count": 2,
   "metadata": {
    "editable": true,
    "slideshow": {
     "slide_type": ""
    },
    "tags": []
   },
   "outputs": [
    {
     "name": "stderr",
     "output_type": "stream",
     "text": [
      "  0%|          | 0/10000 [00:00<?, ?it/s]/tmp/ipykernel_75138/4154302293.py:22: RuntimeWarning: invalid value encountered in arccos\n",
      "  theta = np.arccos(cos_theta)\n",
      "/tmp/ipykernel_75138/4154302293.py:22: RuntimeWarning: invalid value encountered in arccos\n",
      "  theta = np.arccos(cos_theta)\n",
      "/tmp/ipykernel_75138/4154302293.py:22: RuntimeWarning: invalid value encountered in arccos\n",
      "  theta = np.arccos(cos_theta)\n",
      "/tmp/ipykernel_75138/4154302293.py:22: RuntimeWarning: invalid value encountered in arccos\n",
      "  theta = np.arccos(cos_theta)\n",
      "/tmp/ipykernel_75138/4154302293.py:22: RuntimeWarning: invalid value encountered in arccos\n",
      "  theta = np.arccos(cos_theta)\n",
      "/tmp/ipykernel_75138/4154302293.py:22: RuntimeWarning: invalid value encountered in arccos\n",
      "  theta = np.arccos(cos_theta)\n",
      "/tmp/ipykernel_75138/4154302293.py:22: RuntimeWarning: invalid value encountered in arccos\n",
      "  theta = np.arccos(cos_theta)\n",
      "/tmp/ipykernel_75138/4154302293.py:22: RuntimeWarning: invalid value encountered in arccos\n",
      "  theta = np.arccos(cos_theta)\n",
      "/tmp/ipykernel_75138/4154302293.py:22: RuntimeWarning: invalid value encountered in arccos\n",
      "  theta = np.arccos(cos_theta)\n",
      "/tmp/ipykernel_75138/4154302293.py:22: RuntimeWarning: invalid value encountered in arccos\n",
      "  theta = np.arccos(cos_theta)\n",
      "/tmp/ipykernel_75138/4154302293.py:22: RuntimeWarning: invalid value encountered in arccos\n",
      "  theta = np.arccos(cos_theta)\n",
      "/tmp/ipykernel_75138/4154302293.py:22: RuntimeWarning: invalid value encountered in arccos\n",
      "  theta = np.arccos(cos_theta)\n",
      "100%|██████████| 10000/10000 [00:09<00:00, 1050.04it/s]"
     ]
    },
    {
     "name": "stdout",
     "output_type": "stream",
     "text": [
      "[[-0.49086718  0.60128827  0.63047746]\n",
      " [ 0.90129868 -0.41114469 -0.13645778]\n",
      " [ 0.08054073 -0.66801231 -0.73977885]\n",
      " ...\n",
      " [-0.8667923   0.48331862 -0.1227771 ]\n",
      " [-0.87730738  0.14748939 -0.45670411]\n",
      " [-0.97928217 -0.09600217 -0.17829757]]\n"
     ]
    },
    {
     "name": "stderr",
     "output_type": "stream",
     "text": [
      "\n"
     ]
    }
   ],
   "source": [
    "import numpy as np\n",
    "from multiprocessing import Pool\n",
    "from tqdm import tqdm\n",
    "import matplotlib.pyplot as plt\n",
    "\n",
    "def generate_configuration(_):\n",
    "    # Initialize chain\n",
    "    r = np.zeros((N, 3))\n",
    "    u = np.zeros((N - 1, 3))\n",
    "\n",
    "    # Generate u_1 uniformly distributed on a sphere\n",
    "    theta = np.arccos(2 * np.random.random() - 1)\n",
    "    phi = 2 * np.pi * np.random.random()\n",
    "    u[0] = np.array([np.sin(theta) * np.cos(phi),\n",
    "                     np.sin(theta) * np.sin(phi),\n",
    "                     np.cos(theta)])\n",
    "\n",
    "    # Generate subsequent bonds\n",
    "    for i in range(1, N - 1):\n",
    "        xi = np.random.uniform(low=0, high=1/np.sinh(epsilon_0))\n",
    "        cos_theta = np.log(1 - xi * np.sinh(epsilon_0)) / epsilon_0\n",
    "        theta = np.arccos(cos_theta)\n",
    "        phi = 2 * np.pi * np.random.random()\n",
    "        u_i = np.array([np.sin(theta) * np.cos(phi),\n",
    "                        np.sin(theta) * np.sin(phi),\n",
    "                        np.cos(theta)])\n",
    "        u[i] = u_i\n",
    "\n",
    "    return u\n",
    "\n",
    "\n",
    "# Parameters\n",
    "N = 512\n",
    "epsilon_0 = 5\n",
    "# sample_size = 1048576\n",
    "sample_size = 10000\n",
    "\n",
    "# Generate molecular configurations in parallel with progress bar\n",
    "with Pool() as p, tqdm(total=sample_size) as pbar:\n",
    "    configurations = []\n",
    "    for config in p.imap_unordered(generate_configuration, range(sample_size)):\n",
    "        configurations.append(config)\n",
    "        pbar.update(1)\n",
    "\n",
    "# Access individual configurations\n",
    "print(configurations[0])  # Example: Print the first configuration"
   ]
  },
  {
   "cell_type": "code",
   "execution_count": 3,
   "metadata": {},
   "outputs": [
    {
     "data": {
      "image/png": "[encoded data removed]",
      "text/plain": [
       "<Figure size 640x480 with 1 Axes>"
      ]
     },
     "metadata": {},
     "output_type": "display_data"
    }
   ],
   "source": [
    "# Extract the positions of atoms and bond vectors\n",
    "positions = np.zeros((N, 3))\n",
    "bond_vectors = np.zeros((N - 1, 3))\n",
    "\n",
    "positions[0] = np.array([0, 0, 0])\n",
    "for i in range(1, N):\n",
    "    bond_vectors[i - 1] = configurations[i - 1][0]  # Assign bond vector\n",
    "    positions[i] = positions[i - 1] + bond_vectors[i - 1]\n",
    "\n",
    "# Plot the molecular configuration\n",
    "fig = plt.figure()\n",
    "ax = fig.add_subplot(111, projection='3d')\n",
    "\n",
    "# Plot atoms\n",
    "ax.scatter(positions[:, 0], positions[:, 1], positions[:, 2], c='red', s=100)\n",
    "\n",
    "# Plot bonds\n",
    "for i in range(N - 1):\n",
    "    start = positions[i]\n",
    "    end = positions[i + 1]\n",
    "    ax.plot([start[0], end[0]], [start[1], end[1]], [start[2], end[2]], color='blue')\n",
    "\n",
    "# Set plot limits and labels\n",
    "ax.set_xlim([-50, 50])\n",
    "ax.set_ylim([-50, 50])\n",
    "ax.set_zlim([-50, 50])\n",
    "ax.set_xlabel('X')\n",
    "ax.set_ylabel('Y')\n",
    "ax.set_zlabel('Z')\n",
    "\n",
    "# Show the plot\n",
    "plt.show()\n"
   ]
  },
  {
   "attachments": {},
   "cell_type": "markdown",
   "metadata": {},
   "source": [
    "# New"
   ]
  },
  {
   "cell_type": "code",
   "execution_count": 4,
   "metadata": {},
   "outputs": [
    {
     "name": "stderr",
     "output_type": "stream",
     "text": [
      "100%|██████████| 1048576/1048576 [12:30<00:00, 1398.04it/s]"
     ]
    },
    {
     "name": "stdout",
     "output_type": "stream",
     "text": [
      "[[-0.49086718  0.60128827  0.63047746]\n",
      " [ 0.90975492 -0.41500217 -0.01091744]\n",
      " [ 0.03719464 -0.30849579  0.95049824]\n",
      " ...\n",
      " [-0.87042375  0.4853435  -0.08248754]\n",
      " [-0.59672478  0.10031897  0.79615052]\n",
      " [-0.97899011 -0.09597354  0.17990956]]\n"
     ]
    },
    {
     "name": "stderr",
     "output_type": "stream",
     "text": [
      "\n"
     ]
    }
   ],
   "source": [
    "import numpy as np\n",
    "from multiprocessing import Pool\n",
    "from tqdm import tqdm\n",
    "\n",
    "def generate_configuration(_):\n",
    "    # Initialize chain\n",
    "    r = np.zeros((N, 3))\n",
    "    u = np.zeros((N - 1, 3))\n",
    "\n",
    "    # Generate u_1 uniformly distributed on a sphere\n",
    "    theta = np.arccos(2 * np.random.random() - 1)\n",
    "    phi = 2 * np.pi * np.random.random()\n",
    "    u[0] = np.array([np.sin(theta) * np.cos(phi),\n",
    "                     np.sin(theta) * np.sin(phi),\n",
    "                     np.cos(theta)])\n",
    "\n",
    "    # Generate subsequent bonds\n",
    "    for i in range(1, N - 1):\n",
    "        xi = np.random.uniform(low=0, high=1)\n",
    "        cos_theta = 2 * xi - 1\n",
    "        theta = np.arccos(cos_theta)\n",
    "        phi = 2 * np.pi * np.random.random()\n",
    "        u_i = np.array([np.sin(theta) * np.cos(phi),\n",
    "                        np.sin(theta) * np.sin(phi),\n",
    "                        np.cos(theta)])\n",
    "        u[i] = u_i\n",
    "\n",
    "    return u\n",
    "\n",
    "\n",
    "\n",
    "# Parameters\n",
    "N = 512\n",
    "epsilon_0 = 5\n",
    "sample_size = 1048576\n",
    "# sample_size = 10000\n",
    "\n",
    "\n",
    "# Generate molecular configurations in parallel with progress bar\n",
    "with Pool() as p, tqdm(total=sample_size) as pbar:\n",
    "    configurations = []\n",
    "    for config in p.imap_unordered(generate_configuration, range(sample_size)):\n",
    "        configurations.append(config)\n",
    "        pbar.update(1)\n",
    "\n",
    "# Access individual configurations\n",
    "print(configurations[0])  # Example: Print the first configuration\n"
   ]
  },
  {
   "cell_type": "code",
   "execution_count": 5,
   "metadata": {},
   "outputs": [
    {
     "data": {
      "image/png": "[encoded data removed]",
      "text/plain": [
       "<Figure size 640x480 with 1 Axes>"
      ]
     },
     "metadata": {},
     "output_type": "display_data"
    }
   ],
   "source": [
    "import numpy as np\n",
    "import matplotlib.pyplot as plt\n",
    "\n",
    "# Access the first configuration\n",
    "configuration = configurations[0]\n",
    "\n",
    "# Extract the positions of atoms and bond vectors\n",
    "positions = np.zeros((N, 3))\n",
    "bond_vectors = np.zeros((N - 1, 3))\n",
    "\n",
    "positions[0] = np.array([0, 0, 0])\n",
    "for i in range(1, N):\n",
    "    bond_vectors[i - 1] = configuration[i - 1]\n",
    "    positions[i] = positions[i - 1] + bond_vectors[i - 1]\n",
    "\n",
    "# Plot the molecular configuration\n",
    "fig = plt.figure()\n",
    "ax = fig.add_subplot(111, projection='3d')\n",
    "\n",
    "# Plot atoms\n",
    "ax.scatter(positions[:, 0], positions[:, 1], positions[:, 2], c='red', s=100)\n",
    "\n",
    "# Plot bonds\n",
    "for i in range(N - 1):\n",
    "    start = positions[i]\n",
    "    end = positions[i + 1]\n",
    "    ax.plot([start[0], end[0]], [start[1], end[1]], [start[2], end[2]], color='blue')\n",
    "\n",
    "# Set plot limits and labels\n",
    "ax.set_xlim([-1, 1])\n",
    "ax.set_ylim([-1, 1])\n",
    "ax.set_zlim([-1, 1])\n",
    "ax.set_xlabel('X')\n",
    "ax.set_ylabel('Y')\n",
    "ax.set_zlabel('Z')\n",
    "\n",
    "# Show the plot\n",
    "plt.show()\n"
   ]
  },
  {
   "cell_type": "code",
   "execution_count": 6,
   "metadata": {},
   "outputs": [
    {
     "name": "stdout",
     "output_type": "stream",
     "text": [
      "Current time: 2023-07-06 17:33:07\n",
      "/root/vsc_projects/PhyforDS/UniKurs_Phy-for-DS/Softmatter\n",
      "[master f625583] Automated commit - 2023-07-06 17:33:07\n",
      " 1 file changed, 876 insertions(+), 869 deletions(-)\n",
      " rewrite Softmatter/Phy8.ipynb (63%)\n"
     ]
    },
    {
     "name": "stderr",
     "output_type": "stream",
     "text": [
      "To https://github.com/LukasLow/UniKurs_Phy-for-DS.git\n",
      "   2dc4b64..f625583  master -> master\n"
     ]
    }
   ],
   "source": [
    "%%bash\n",
    "/root/vsc_projects/PhyforDS/UniKurs_Phy-for-DS/Softmatter/sgh.sh"
   ]
  },
  {
   "cell_type": "code",
   "execution_count": 7,
   "metadata": {},
   "outputs": [
    {
     "name": "stdout",
     "output_type": "stream",
     "text": [
      "[[-0.49086718  0.60128827  0.63047746]\n",
      " [ 0.90975492 -0.41500217 -0.01091744]\n",
      " [ 0.03719464 -0.30849579  0.95049824]\n",
      " ...\n",
      " [-0.87042375  0.4853435  -0.08248754]\n",
      " [-0.59672478  0.10031897  0.79615052]\n",
      " [-0.97899011 -0.09597354  0.17990956]]\n"
     ]
    }
   ],
   "source": [
    "print(configurations[0])  # Example: Print the first configuration"
   ]
  },
  {
   "cell_type": "code",
   "execution_count": 8,
   "metadata": {},
   "outputs": [
    {
     "name": "stdout",
     "output_type": "stream",
     "text": [
      "Saved 1048576 configurations to molecular_configurationsrs.npy.\n"
     ]
    }
   ],
   "source": [
    "# Save configurations to a file\n",
    "filename = \"molecular_configurationsrs.npy\"\n",
    "np.save(filename, configurations)\n",
    "print(f\"Saved {len(configurations)} configurations to {filename}.\")"
   ]
  },
  {
   "cell_type": "code",
   "execution_count": 9,
   "metadata": {},
   "outputs": [
    {
     "name": "stdout",
     "output_type": "stream",
     "text": [
      "Current time: 2023-07-06 17:33:17\n",
      "/root/vsc_projects/PhyforDS/UniKurs_Phy-for-DS/Softmatter\n",
      "[master 3e38356] Automated commit - 2023-07-06 17:33:17\n"
     ]
    },
    {
     "name": "stderr",
     "output_type": "stream",
     "text": [
      "To https://github.com/LukasLow/UniKurs_Phy-for-DS.git\n",
      "   f625583..3e38356  master -> master\n"
     ]
    }
   ],
   "source": [
    "%%bash\n",
    "/root/vsc_projects/PhyforDS/UniKurs_Phy-for-DS/Softmatter/sgh.sh"
   ]
  },
  {
   "attachments": {},
   "cell_type": "markdown",
   "metadata": {},
   "source": [
    "---------\n",
    "\n",
    "b) Calculate averages and statistical errors of the following quantities and compare them to the exact results (where available)\n",
    "- average bond-angle\n",
    "$$\n",
    "\\langle\\cos \\theta\\rangle=\\frac{\\left(\\epsilon_0-1\\right) e^{\\epsilon_0}+\\left(\\epsilon_0+1\\right)^{-\\epsilon_0}}{2 \\epsilon_0 \\sinh \\epsilon_0}=\\frac{1-\\frac{1}{\\epsilon_0}+\\left(1+\\frac{1}{\\epsilon_0}\\right) e^{-2 \\epsilon_0}}{1-e^{-2 \\epsilon_0}}\n",
    "$$\n",
    "- bond-angle correlation along the macromolecule\n",
    "$$\n",
    "C(\\Delta i)=\\frac{\\left\\langle\\mathbf{u}_i \\cdot \\mathbf{u}_{i+\\Delta i}\\right\\rangle}{l_0^2}=\\langle\\cos \\theta\\rangle^{|\\Delta i|}=e^{-\\frac{l_0|\\Delta i|}{l_p}} \\quad \\text { with } l_p=-\\frac{l_0}{\\ln \\langle\\cos \\theta\\rangle}\n",
    "$$\n",
    "where $l_p$ is called the persistence length.\n",
    "- mean-square end-to-end distance, $\\left\\langle R_{\\mathrm{EE}}^2\\right\\rangle \\equiv\\left\\langle\\left(\\mathbf{r}_{N-1}-\\mathbf{r}_0\\right)^2\\right\\rangle=\\left\\langle\\left(\\sum_{i=1}^{N-1} \\mathbf{u}_i\\right)^2\\right\\rangle$\n",
    "$$\n",
    "\\begin{aligned}\n",
    "& \\left\\langle R_{\\mathrm{EE}}^2\\right\\rangle=(N-1) l_0^2\\left(\\frac{1+\\langle\\cos \\theta\\rangle}{1-\\langle\\cos \\theta\\rangle}-\\frac{2\\langle\\cos \\theta\\rangle}{N-1} \\frac{1-\\langle\\cos \\theta\\rangle^{N-1}}{(1-\\langle\\cos \\theta\\rangle)^2}\\right) \\\\\n",
    "& \\stackrel{l_p \\gg l_0}{\\approx} 2 L l_p\\left(1-\\frac{l_p}{L}\\left[1-e^{-L / l_p}\\right]\\right) \\\\\n",
    "&\n",
    "\\end{aligned}\n",
    "$$\n",
    "where $L=(N-1) l_0$ denotes the contour length of the chain molecules.\n",
    "\n"
   ]
  },
  {
   "cell_type": "code",
   "execution_count": 10,
   "metadata": {},
   "outputs": [
    {
     "name": "stdout",
     "output_type": "stream",
     "text": [
      "[[-0.49086718  0.60128827  0.63047746]\n",
      " [ 0.90975492 -0.41500217 -0.01091744]\n",
      " [ 0.03719464 -0.30849579  0.95049824]\n",
      " ...\n",
      " [-0.87042375  0.4853435  -0.08248754]\n",
      " [-0.59672478  0.10031897  0.79615052]\n",
      " [-0.97899011 -0.09597354  0.17990956]]\n",
      "False\n",
      "Shape of the array:  (1048576, 511, 3)\n",
      "Number of NaN values along axis 0:  [[0 0 0]\n",
      " [0 0 0]\n",
      " [0 0 0]\n",
      " ...\n",
      " [0 0 0]\n",
      " [0 0 0]\n",
      " [0 0 0]]\n",
      "Number of NaN values along axis 1:  [[0 0 0]\n",
      " [0 0 0]\n",
      " [0 0 0]\n",
      " ...\n",
      " [0 0 0]\n",
      " [0 0 0]\n",
      " [0 0 0]]\n",
      "Number of NaN values along axis 2:  [[0 0 0 ... 0 0 0]\n",
      " [0 0 0 ... 0 0 0]\n",
      " [0 0 0 ... 0 0 0]\n",
      " ...\n",
      " [0 0 0 ... 0 0 0]\n",
      " [0 0 0 ... 0 0 0]\n",
      " [0 0 0 ... 0 0 0]]\n",
      "Average cos(theta) = -1.242277011428452e-05 ± 0.5770832163405352\n",
      "Average u_i.u_(i+Delta_i) = -9.045074355842569e-05 ± 0.576984404046226\n",
      "Average R_EE^2 = 2.004314206949404 ± 1.157206340312462\n",
      "Averages and errors have been saved to 'averages_and_errors.txt'\n"
     ]
    }
   ],
   "source": [
    "import numpy as np\n",
    "from scipy.spatial.transform import Rotation as R\n",
    "from multiprocessing import Pool\n",
    "from tqdm import tqdm\n",
    "from sklearn.utils import resample\n",
    "\n",
    "configurations = np.load(\"molecular_configurationsrs.npy\")\n",
    "\n",
    "print(configurations[0])  # Example: Print the first configuration\n",
    "\n",
    "print(np.isnan(configurations).any())\n",
    "\n",
    "# Remove all NaN in Data\n",
    "mask = ~np.isnan(configurations).any(axis=(1,2))\n",
    "configurations = configurations[mask]\n",
    "\n",
    "print(\"Shape of the array: \", configurations.shape)\n",
    "\n",
    "for i in range(len(configurations.shape)):\n",
    "    print(f\"Number of NaN values along axis {i}: \", np.isnan(configurations).sum(axis=i))\n",
    "\n",
    "\n",
    "def calculate_averages(configurations):\n",
    "    num_configurations = len(configurations)\n",
    "    cos_thetas = []\n",
    "    u_dot_u_deltas = []\n",
    "    R_EE_squares = []\n",
    "\n",
    "    # Calculate quantities for each configuration\n",
    "    for config in configurations:\n",
    "        # Calculate cos_theta for each bond\n",
    "        cos_theta = np.sum(config[:-1] * config[1:], axis=1)\n",
    "        cos_thetas.append(cos_theta)\n",
    "\n",
    "        # Calculate u_i.u_{i+Delta_i} for each pair of bonds\n",
    "        u_dot_u_delta = np.sum(config[:-2] * config[2:], axis=1)\n",
    "        u_dot_u_deltas.append(u_dot_u_delta)\n",
    "\n",
    "        # Calculate R_EE^2 for the chain\n",
    "        R_EE_square = np.sum((config[-1] - config[0])**2)\n",
    "        R_EE_squares.append(R_EE_square)\n",
    "\n",
    "    cos_thetas = np.concatenate(cos_thetas)\n",
    "    u_dot_u_deltas = np.concatenate(u_dot_u_deltas)\n",
    "\n",
    "    # Calculate averages\n",
    "    average_cos_theta = np.mean(cos_thetas)\n",
    "    average_u_dot_u_delta = np.mean(u_dot_u_deltas)\n",
    "    average_R_EE_square = np.mean(R_EE_squares)\n",
    "\n",
    "    # Estimate errors using bootstrap resampling\n",
    "    cos_theta_err = np.std(resample(cos_thetas, replace=True, n_samples=num_configurations))\n",
    "    u_dot_u_delta_err = np.std(resample(u_dot_u_deltas, replace=True, n_samples=num_configurations))\n",
    "    R_EE_square_err = np.std(resample(R_EE_squares, replace=True, n_samples=num_configurations))\n",
    "\n",
    "    return average_cos_theta, cos_theta_err, average_u_dot_u_delta, u_dot_u_delta_err, average_R_EE_square, R_EE_square_err\n",
    "\n",
    "average_cos_theta, cos_theta_err, average_u_dot_u_delta, u_dot_u_delta_err, average_R_EE_square, R_EE_square_err = calculate_averages(configurations)\n",
    "\n",
    "print(f\"Average cos(theta) = {average_cos_theta} ± {cos_theta_err}\")\n",
    "print(f\"Average u_i.u_(i+Delta_i) = {average_u_dot_u_delta} ± {u_dot_u_delta_err}\")\n",
    "print(f\"Average R_EE^2 = {average_R_EE_square} ± {R_EE_square_err}\")\n",
    "\n",
    "\n",
    "# Calculate averages and statistical errors\n",
    "average_cos_theta, cos_theta_err, average_u_dot_u_delta, u_dot_u_delta_err, average_R_EE_square, R_EE_square_err = calculate_averages(configurations)\n",
    "\n",
    "# Save results to a text file\n",
    "with open('averages_and_errors.txt', 'w') as f:\n",
    "    f.write(f\"Average cos(theta) = {average_cos_theta} ± {cos_theta_err}\\n\")\n",
    "    f.write(f\"Average u_i.u_(i+Delta_i) = {average_u_dot_u_delta} ± {u_dot_u_delta_err}\\n\")\n",
    "    f.write(f\"Average R_EE^2 = {average_R_EE_square} ± {R_EE_square_err}\\n\")\n",
    "\n",
    "print(\"Averages and errors have been saved to 'averages_and_errors.txt'\")\n"
   ]
  },
  {
   "cell_type": "code",
   "execution_count": 11,
   "metadata": {},
   "outputs": [
    {
     "name": "stdout",
     "output_type": "stream",
     "text": [
      "Current time: 2023-07-06 17:34:46\n",
      "/root/vsc_projects/PhyforDS/UniKurs_Phy-for-DS/Softmatter\n",
      "[master 76ffa4e] Automated commit - 2023-07-06 17:34:46\n",
      " 1 file changed, 3 insertions(+), 3 deletions(-)\n"
     ]
    },
    {
     "name": "stderr",
     "output_type": "stream",
     "text": [
      "To https://github.com/LukasLow/UniKurs_Phy-for-DS.git\n",
      "   3e38356..76ffa4e  master -> master\n"
     ]
    }
   ],
   "source": [
    "%%bash\n",
    "/root/vsc_projects/PhyforDS/UniKurs_Phy-for-DS/Softmatter/sgh.sh"
   ]
  },
  {
   "attachments": {},
   "cell_type": "markdown",
   "metadata": {},
   "source": [
    "----------\n",
    "\n",
    "c) Generate a joint sequence of the polymer's square end-to-end distance, $R_{\\mathrm{EE}}^2(t)$, and the bond-angle energy, $\\mathcal{H}(\\{\\mathbf{u}(t)\\})$, according to Equation 1. $t$ denotes the index of the configuration in the sequence. Use single-histogram extrapolation\n",
    "$$\n",
    "\\begin{aligned}\n",
    "\\left\\langle R_{\\mathrm{EE}}^2\\right\\rangle_{\\epsilon_0^{\\prime}} & =\\frac{\\left\\langle e^{\\frac{\\left(\\epsilon_0^{\\prime}-\\epsilon_0\\right)}{l_0^2} \\sum_i \\mathbf{u}_i \\cdot \\mathbf{u}_{i-1}} R_{\\mathrm{EE}}^2(\\{\\mathbf{u}\\})\\right\\rangle_\\epsilon}{\\left\\langle e^{\\frac{\\left(\\epsilon_0^{\\prime}-\\epsilon_0\\right)}{l_0^2} \\sum_i \\mathbf{u}_i \\cdot \\mathbf{u}_{i-1}}\\right\\rangle_\\epsilon} \\\\\n",
    "& \\approx \\frac{\\sum_t e^{\\frac{\\left(\\epsilon_0^{\\prime}-\\epsilon_0\\right)}{l_0^2} \\sum_i\\left[\\mathbf{u}_i(t) \\cdot \\mathbf{u}_{i-1}(t)-c\\right]} R_{\\mathrm{EE}}^2(\\{\\mathbf{u}(t)\\})}{\\sum_t e^{\\frac{\\left(\\epsilon_0^{\\prime}-\\epsilon_0\\right)}{l_0^2} \\sum_i\\left[\\mathbf{u}_i(t) \\cdot \\mathbf{u}_{i-1}(t)-c\\right]}}\n",
    "\\end{aligned}\n",
    "$$\n",
    "to validate your sample of generated configurations by comparing the meansquare end-to-end distance at two, neighboring values of the stiffness parameter, $\\epsilon_0^{\\prime}$ and $\\epsilon_0$. In the last step we have approximated the integral over configuration space by the sum over the sequence. $c \\approx\\left\\langle\\mathbf{u}_i \\cdot \\mathbf{u}_{i-1}\\right\\rangle=l_0^2\\langle\\cos \\theta\\rangle$ is a constant to avoid over/underflow issues.\n",
    "[hint: choose $\\epsilon^{\\prime}=\\epsilon \\pm 0.25$ ]\n",
    "\n"
   ]
  },
  {
   "cell_type": "code",
   "execution_count": 12,
   "metadata": {},
   "outputs": [],
   "source": [
    "def calculate_REE_and_H(configurations, epsilon_0, epsilon_0_prime, l_0, c):\n",
    "    num_configurations = len(configurations)\n",
    "    R_EE_squares = []\n",
    "    Hs = []\n",
    "\n",
    "    # Calculate quantities for each configuration\n",
    "    for config in configurations:\n",
    "        # Calculate R_EE^2 for the chain\n",
    "        R_EE_square = np.sum((config[-1] - config[0])**2)\n",
    "        R_EE_squares.append(R_EE_square)\n",
    "\n",
    "        # Calculate bond-angle energy for the chain\n",
    "        H = np.sum(config[:-1] * config[1:]) - c\n",
    "        Hs.append(H)\n",
    "\n",
    "    # Use single-histogram extrapolation to calculate <R_EE^2>_{epsilon_0'}\n",
    "    exp_factor = np.exp((epsilon_0_prime - epsilon_0) / l_0**2 * np.array(Hs))\n",
    "    average_REE_square_prime = np.sum(exp_factor * R_EE_squares) / np.sum(exp_factor)\n",
    "\n",
    "    return average_REE_square_prime"
   ]
  },
  {
   "cell_type": "code",
   "execution_count": 13,
   "metadata": {},
   "outputs": [
    {
     "name": "stdout",
     "output_type": "stream",
     "text": [
      "Current time: 2023-07-06 17:34:48\n",
      "/root/vsc_projects/PhyforDS/UniKurs_Phy-for-DS/Softmatter\n",
      "[master c251fd4] Automated commit - 2023-07-06 17:34:48\n"
     ]
    },
    {
     "name": "stderr",
     "output_type": "stream",
     "text": [
      "To https://github.com/LukasLow/UniKurs_Phy-for-DS.git\n",
      "   76ffa4e..c251fd4  master -> master\n"
     ]
    }
   ],
   "source": [
    "%%bash\n",
    "/root/vsc_projects/PhyforDS/UniKurs_Phy-for-DS/Softmatter/sgh.sh"
   ]
  },
  {
   "attachments": {},
   "cell_type": "markdown",
   "metadata": {},
   "source": [
    "--------\n",
    "- Coarse grain the macromolecular configurations\n",
    "by defining new, coarse-grained bead positions and bond vectors, according to\n",
    "$$\n",
    "\\mathbf{R}_J=\\mathbf{r}_{(J+1 / 2) 2^\\lambda} \\quad \\text { and } \\quad \\mathbf{U}_J=\\mathbf{R}_J-\\mathbf{R}_{J-1}=\\sum_{i=J 2^\\lambda}^{(J+1) 2^\\lambda-1} \\mathbf{u}_i\n",
    "$$\n",
    "\n",
    "where the degree of coarse-graining, $2^\\lambda$, is a power of 2 . We seek an approximate description of these coarse-grained configurations, $\\mathbf{U}_J$ with $J=1, \\cdots, N_\\lambda-1$ and $N_\\lambda=N / 2^\\lambda$, by a probability distribution of the form\n",
    "$$\n",
    "P_\\lambda(\\{\\mathbf{U}\\}) \\sim \\mathcal{L}_\\lambda\\left(\\left|\\mathbf{U}_1\\right|\\right) \\prod_{J=2}^{N_\\lambda-1} e^{\\epsilon_\\lambda \\frac{\\mathbf{U}_J \\cdot \\mathbf{U}_{J-1}}{\\sqrt{\\mathbf{U}_J^2 \\mathbf{U}_{J-1}^2}}} \\mathcal{L}_\\lambda\\left(\\left|\\mathbf{U}_J\\right|\\right)=\\mathcal{L}_\\lambda\\left(U_1 \\mid\\right) \\prod_{J=2}^{N_\\lambda-1} e^{\\epsilon_\\lambda} \\hat{\\mathbf{U}}_J \\cdot \\hat{\\mathbf{U}}_{J-1} \\mathcal{L}_\\lambda\\left(U_J\\right)\n",
    "$$\n",
    "where $\\hat{\\mathbf{U}}_J$ and $U_J$ are the direction and the length of the coarse-grained bond, respectively. $\\mathcal{L}_\\lambda(U)$ denotes the length distribution of a coarse-grained bond and it takes the form\n",
    "$$\n",
    "\\mathcal{L}_\\lambda(U) \\sim e^{-\\frac{3\\left(U-l_\\lambda\\right)^2}{2 \\sigma_\\lambda^2}} U^2\n",
    "$$\n",
    "Equivalently, the coarse-grained Hamiltonian is of the form\n",
    "$$\n",
    "\\frac{\\mathcal{H}_{\\mathrm{cg}}(\\{\\mathbf{U}\\})}{k_{\\mathrm{B}} T}=\\sum_{J=1}^{N_\\lambda-1} \\frac{3\\left(\\left|\\mathbf{U}_J\\right|-l_\\lambda\\right)^2}{2 \\sigma_\\lambda^2}-\\epsilon_\\lambda \\sum_{J=2}^{N_\\lambda-1} \\hat{\\mathbf{U}}_J \\cdot \\hat{\\mathbf{U}}_{J-1}\n",
    "$$\n",
    "Thus, the coarse-grained distribution is characterized by 3 parameters, $\\epsilon_\\lambda, l_\\lambda$, and $\\sigma_\\lambda$. The original probability distribution, $P_1$ for $\\lambda=1$, corresponds to $\\epsilon_\\lambda=\\epsilon, l_\\lambda=l_0$, and $\\sigma_\\lambda \\rightarrow 0$. The goal of this second part of the exercise is to explicitly show that for $1 \\ll \\lambda \\ll N$, the coarse-grained probability distribution is characterized by $\\epsilon_\\lambda \\rightarrow 0$, $l_\\lambda \\rightarrow 0$, and $\\sigma_\\lambda^2 \\rightarrow\\left\\langle R_{\\mathrm{EE}}^2\\right\\rangle /\\left(N_\\lambda-1\\right)$, i.e., the coarse-grained bonds are Gaussian distributed (cf. central limit theorem)\n",
    "$$\n",
    "\\begin{aligned}\n",
    "P_\\lambda(\\{\\mathbf{U}\\}) \\mathrm{d}\\{\\mathbf{U}\\} & \\rightarrow \\prod_{J=1}^{N_\\lambda-1}\\left(\\frac{3\\left(N_\\lambda-1\\right)}{2 \\pi\\left\\langle R_{\\mathrm{EE}}^2\\right\\rangle}\\right)^{3 / 2} e^{-\\frac{3\\left(N_\\lambda-1\\right) U_J^2}{2\\left\\langle R_{\\mathrm{EE}}^2\\right\\rangle}} U_J^2 \\mathrm{~d} U_J \\mathrm{~d} \\phi_J \\mathrm{~d} \\cos \\theta_J \\\\\n",
    "& =\\left(\\frac{3\\left(N_\\lambda-1\\right)}{2 \\pi\\left\\langle R_{\\mathrm{EE}}^2\\right\\rangle}\\right)^{3\\left(N_\\lambda-1\\right) / 2} e^{-\\frac{3\\left(N_\\lambda-1\\right)}{2\\left\\langle R_{\\mathrm{EE}}^2\\right\\rangle} \\sum_{J=1}^{N_\\lambda-1} \\mathbf{U}_J^2} \\mathrm{~d}\\{\\mathbf{U}\\}\n",
    "\\end{aligned}\n",
    "$$"
   ]
  },
  {
   "cell_type": "code",
   "execution_count": 14,
   "metadata": {},
   "outputs": [],
   "source": [
    "def coarse_grain(configurations, lambda_):\n",
    "    coarse_grained_configurations = []\n",
    "\n",
    "    for config in configurations:\n",
    "        N = len(config)\n",
    "        N_lambda = N // 2**lambda_\n",
    "        coarse_grained_config = np.zeros((N_lambda, 3))\n",
    "\n",
    "        for J in range(N_lambda):\n",
    "            coarse_grained_config[J] = np.sum(config[J*2**lambda_:(J+1)*2**lambda_], axis=0)\n",
    "\n",
    "        coarse_grained_configurations.append(coarse_grained_config)\n",
    "\n",
    "    return coarse_grained_configurations\n"
   ]
  },
  {
   "cell_type": "code",
   "execution_count": 15,
   "metadata": {},
   "outputs": [
    {
     "name": "stdout",
     "output_type": "stream",
     "text": [
      "Current time: 2023-07-06 17:34:49\n",
      "/root/vsc_projects/PhyforDS/UniKurs_Phy-for-DS/Softmatter\n",
      "[master a2d117e] Automated commit - 2023-07-06 17:34:49\n"
     ]
    },
    {
     "name": "stderr",
     "output_type": "stream",
     "text": [
      "To https://github.com/LukasLow/UniKurs_Phy-for-DS.git\n",
      "   c251fd4..a2d117e  master -> master\n"
     ]
    }
   ],
   "source": [
    "%%bash\n",
    "/root/vsc_projects/PhyforDS/UniKurs_Phy-for-DS/Softmatter/sgh.sh"
   ]
  },
  {
   "attachments": {},
   "cell_type": "markdown",
   "metadata": {},
   "source": [
    "--------------\n",
    "a) Calculate the length distribution, $\\mathcal{L}_\\lambda(U)$, of the new, coarse-grained bond vectors for various degrees of coarse-graining, $2^\\lambda=(1), 2,4,8,16,32,64,128$, and determine the parameters $l_\\lambda$ and $\\sigma_\\lambda^2$ as a function of $2^\\lambda$."
   ]
  },
  {
   "cell_type": "code",
   "execution_count": 16,
   "metadata": {},
   "outputs": [],
   "source": [
    "import scipy.stats as stats\n",
    "\n",
    "def calculate_length_distribution(coarse_grained_configurations):\n",
    "    lengths = []\n",
    "\n",
    "    for config in coarse_grained_configurations:\n",
    "        lengths.append(np.linalg.norm(config, axis=1))\n",
    "\n",
    "    lengths = np.concatenate(lengths)\n",
    "\n",
    "    l_lambda = np.mean(lengths)\n",
    "    sigma_lambda = np.std(lengths)\n",
    "\n",
    "    return l_lambda, sigma_lambda\n"
   ]
  },
  {
   "cell_type": "code",
   "execution_count": 17,
   "metadata": {},
   "outputs": [
    {
     "name": "stdout",
     "output_type": "stream",
     "text": [
      "Current time: 2023-07-06 17:34:51\n",
      "/root/vsc_projects/PhyforDS/UniKurs_Phy-for-DS/Softmatter\n",
      "[master 54d1613] Automated commit - 2023-07-06 17:34:51\n"
     ]
    },
    {
     "name": "stderr",
     "output_type": "stream",
     "text": [
      "To https://github.com/LukasLow/UniKurs_Phy-for-DS.git\n",
      "   a2d117e..54d1613  master -> master\n"
     ]
    }
   ],
   "source": [
    "%%bash\n",
    "/root/vsc_projects/PhyforDS/UniKurs_Phy-for-DS/Softmatter/sgh.sh"
   ]
  },
  {
   "attachments": {},
   "cell_type": "markdown",
   "metadata": {},
   "source": [
    "--------------\n",
    "b) Calculate the coarse-grained bond-angle autocorrelation function\n",
    "$$\n",
    "C_\\lambda(\\Delta J)=\\left\\langle\\hat{\\mathbf{U}}_J \\cdot \\hat{\\mathbf{U}}_{J+\\Delta J}\\right\\rangle\n",
    "$$\n",
    "and estimate from these data the parameter $\\epsilon_\\lambda$.\n"
   ]
  },
  {
   "cell_type": "code",
   "execution_count": 18,
   "metadata": {},
   "outputs": [],
   "source": [
    "def calculate_bond_angle_autocorrelation(coarse_grained_configurations, Delta_J):\n",
    "    autocorrelations = []\n",
    "\n",
    "    for config in coarse_grained_configurations:\n",
    "        N_lambda = len(config)\n",
    "        autocorrelations = []\n",
    "\n",
    "        for config in coarse_grained_configurations:\n",
    "            N_lambda = len(config)\n",
    "            autocorrelation = 0\n",
    "\n",
    "            for J in range(N_lambda - Delta_J):\n",
    "                u_J = config[J] / np.linalg.norm(config[J])\n",
    "                u_J_plus_Delta_J = config[J + Delta_J] / np.linalg.norm(config[J + Delta_J])\n",
    "                autocorrelation += np.dot(u_J, u_J_plus_Delta_J)\n",
    "\n",
    "            autocorrelation /= (N_lambda - Delta_J)\n",
    "            autocorrelations.append(autocorrelation)\n",
    "\n",
    "    C_lambda = np.mean(autocorrelations)\n",
    "\n",
    "    return C_lambda\n"
   ]
  },
  {
   "cell_type": "code",
   "execution_count": 19,
   "metadata": {},
   "outputs": [
    {
     "name": "stdout",
     "output_type": "stream",
     "text": [
      "Current time: 2023-07-06 17:34:52\n",
      "/root/vsc_projects/PhyforDS/UniKurs_Phy-for-DS/Softmatter\n",
      "[master 91fa18b] Automated commit - 2023-07-06 17:34:52\n"
     ]
    },
    {
     "name": "stderr",
     "output_type": "stream",
     "text": [
      "To https://github.com/LukasLow/UniKurs_Phy-for-DS.git\n",
      "   54d1613..91fa18b  master -> master\n"
     ]
    }
   ],
   "source": [
    "%%bash\n",
    "/root/vsc_projects/PhyforDS/UniKurs_Phy-for-DS/Softmatter/sgh.sh"
   ]
  },
  {
   "attachments": {},
   "cell_type": "markdown",
   "metadata": {},
   "source": [
    "--------------\n",
    "c) Graphically represent the variation of $\\left(\\epsilon_\\lambda, l_\\lambda, \\sigma_\\lambda^2 2^{-\\lambda}\\right)$ as a function of $2^{-\\lambda}$-this is called the renormalization group flow."
   ]
  },
  {
   "cell_type": "code",
   "execution_count": 22,
   "metadata": {},
   "outputs": [
    {
     "ename": "KeyboardInterrupt",
     "evalue": "",
     "output_type": "error",
     "traceback": [
      "\u001b[0;31m---------------------------------------------------------------------------\u001b[0m",
      "\u001b[0;31mKeyboardInterrupt\u001b[0m                         Traceback (most recent call last)",
      "Cell \u001b[0;32mIn[22], line 33\u001b[0m\n\u001b[1;32m     30\u001b[0m sigma_lambdas \u001b[39m=\u001b[39m []\n\u001b[1;32m     32\u001b[0m \u001b[39mfor\u001b[39;00m lambda_ \u001b[39min\u001b[39;00m lambdas:\n\u001b[0;32m---> 33\u001b[0m     coarse_grained_configurations \u001b[39m=\u001b[39m coarse_grain(configurations, lambda_)\n\u001b[1;32m     34\u001b[0m     l_lambda, sigma_lambda \u001b[39m=\u001b[39m calculate_length_distribution(coarse_grained_configurations)\n\u001b[1;32m     35\u001b[0m     epsilon_lambda \u001b[39m=\u001b[39m calculate_bond_angle_autocorrelation(coarse_grained_configurations, Delta_J)\n",
      "Cell \u001b[0;32mIn[14], line 10\u001b[0m, in \u001b[0;36mcoarse_grain\u001b[0;34m(configurations, lambda_)\u001b[0m\n\u001b[1;32m      7\u001b[0m     coarse_grained_config \u001b[39m=\u001b[39m np\u001b[39m.\u001b[39mzeros((N_lambda, \u001b[39m3\u001b[39m))\n\u001b[1;32m      9\u001b[0m     \u001b[39mfor\u001b[39;00m J \u001b[39min\u001b[39;00m \u001b[39mrange\u001b[39m(N_lambda):\n\u001b[0;32m---> 10\u001b[0m         coarse_grained_config[J] \u001b[39m=\u001b[39m np\u001b[39m.\u001b[39;49msum(config[J\u001b[39m*\u001b[39;49m\u001b[39m2\u001b[39;49m\u001b[39m*\u001b[39;49m\u001b[39m*\u001b[39;49mlambda_:(J\u001b[39m+\u001b[39;49m\u001b[39m1\u001b[39;49m)\u001b[39m*\u001b[39;49m\u001b[39m2\u001b[39;49m\u001b[39m*\u001b[39;49m\u001b[39m*\u001b[39;49mlambda_], axis\u001b[39m=\u001b[39;49m\u001b[39m0\u001b[39;49m)\n\u001b[1;32m     12\u001b[0m     coarse_grained_configurations\u001b[39m.\u001b[39mappend(coarse_grained_config)\n\u001b[1;32m     14\u001b[0m \u001b[39mreturn\u001b[39;00m coarse_grained_configurations\n",
      "File \u001b[0;32m/usr/local/lib/python3.9/dist-packages/numpy/core/fromnumeric.py:2313\u001b[0m, in \u001b[0;36msum\u001b[0;34m(a, axis, dtype, out, keepdims, initial, where)\u001b[0m\n\u001b[1;32m   2310\u001b[0m         \u001b[39mreturn\u001b[39;00m out\n\u001b[1;32m   2311\u001b[0m     \u001b[39mreturn\u001b[39;00m res\n\u001b[0;32m-> 2313\u001b[0m \u001b[39mreturn\u001b[39;00m _wrapreduction(a, np\u001b[39m.\u001b[39;49madd, \u001b[39m'\u001b[39;49m\u001b[39msum\u001b[39;49m\u001b[39m'\u001b[39;49m, axis, dtype, out, keepdims\u001b[39m=\u001b[39;49mkeepdims,\n\u001b[1;32m   2314\u001b[0m                       initial\u001b[39m=\u001b[39;49minitial, where\u001b[39m=\u001b[39;49mwhere)\n",
      "File \u001b[0;32m/usr/local/lib/python3.9/dist-packages/numpy/core/fromnumeric.py:88\u001b[0m, in \u001b[0;36m_wrapreduction\u001b[0;34m(obj, ufunc, method, axis, dtype, out, **kwargs)\u001b[0m\n\u001b[1;32m     85\u001b[0m         \u001b[39melse\u001b[39;00m:\n\u001b[1;32m     86\u001b[0m             \u001b[39mreturn\u001b[39;00m reduction(axis\u001b[39m=\u001b[39maxis, out\u001b[39m=\u001b[39mout, \u001b[39m*\u001b[39m\u001b[39m*\u001b[39mpasskwargs)\n\u001b[0;32m---> 88\u001b[0m \u001b[39mreturn\u001b[39;00m ufunc\u001b[39m.\u001b[39;49mreduce(obj, axis, dtype, out, \u001b[39m*\u001b[39;49m\u001b[39m*\u001b[39;49mpasskwargs)\n",
      "\u001b[0;31mKeyboardInterrupt\u001b[0m: "
     ]
    }
   ],
   "source": [
    "import matplotlib.pyplot as plt\n",
    "\n",
    "def plot_parameters(lambdas, epsilons, l_lambdas, sigma_lambdas):\n",
    "    # Set up the figure and the subplots\n",
    "    fig, axs = plt.subplots(3, 1, figsize=(10,15))\n",
    "    fig.suptitle('Variation of parameters with degree of coarse graining')\n",
    "\n",
    "    # epsilon_lambda\n",
    "    axs[0].plot(lambdas, epsilons, 'o-')\n",
    "    axs[0].set_ylabel('epsilon_lambda')\n",
    "    axs[0].set_xscale('log', basex=2)  # Coarse-graining degrees are powers of 2\n",
    "\n",
    "    # l_lambda\n",
    "    axs[1].plot(lambdas, l_lambdas, 'o-')\n",
    "    axs[1].set_ylabel('l_lambda')\n",
    "    axs[1].set_xscale('log', basex=2)\n",
    "\n",
    "    # sigma_lambda\n",
    "    axs[2].plot(lambdas, sigma_lambdas, 'o-')\n",
    "    axs[2].set_ylabel('sigma_lambda^2')\n",
    "    axs[2].set_xlabel('Degree of coarse graining (2^lambda)')\n",
    "    axs[2].set_xscale('log', basex=2)\n",
    "\n",
    "    plt.show()\n",
    "\n",
    "# Then, you need to collect these parameters for various lambda\n",
    "lambdas = [2**i for i in range(8)]  # Degrees of coarse-graining\n",
    "epsilons = []\n",
    "l_lambdas = []\n",
    "sigma_lambdas = []\n",
    "\n",
    "for lambda_ in lambdas:\n",
    "    coarse_grained_configurations = coarse_grain(configurations, lambda_)\n",
    "    l_lambda, sigma_lambda = calculate_length_distribution(coarse_grained_configurations)\n",
    "    epsilon_lambda = calculate_bond_angle_autocorrelation(coarse_grained_configurations, Delta_J)\n",
    "\n",
    "    epsilons.append(epsilon_lambda)\n",
    "    l_lambdas.append(l_lambda)\n",
    "    sigma_lambdas.append(sigma_lambda**2)\n",
    "\n",
    "plot_parameters(lambdas, epsilons, l_lambdas, sigma_lambdas)\n"
   ]
  },
  {
   "attachments": {},
   "cell_type": "markdown",
   "metadata": {},
   "source": [
    "---------\n",
    "\n",
    "---------\n",
    "\n",
    "---------\n",
    "\n",
    "---------\n",
    "\n",
    "---------"
   ]
  },
  {
   "cell_type": "code",
   "execution_count": 23,
   "metadata": {},
   "outputs": [
    {
     "ename": "KeyboardInterrupt",
     "evalue": "",
     "output_type": "error",
     "traceback": [
      "\u001b[0;31m---------------------------------------------------------------------------\u001b[0m",
      "\u001b[0;31mKeyboardInterrupt\u001b[0m                         Traceback (most recent call last)",
      "Cell \u001b[0;32mIn[23], line 11\u001b[0m\n\u001b[1;32m      7\u001b[0m sigmas_squared \u001b[39m=\u001b[39m []  \u001b[39m# list of sigma_lambda^2 values for each lambda\u001b[39;00m\n\u001b[1;32m      9\u001b[0m \u001b[39mfor\u001b[39;00m lambda_ \u001b[39min\u001b[39;00m lambdas:\n\u001b[1;32m     10\u001b[0m     \u001b[39m# Coarse grain the configurations\u001b[39;00m\n\u001b[0;32m---> 11\u001b[0m     cg_configs \u001b[39m=\u001b[39m coarse_grain(configurations, lambda_)\n\u001b[1;32m     13\u001b[0m     \u001b[39m# Calculate length distribution\u001b[39;00m\n\u001b[1;32m     14\u001b[0m     l_lambda, sigma_lambda \u001b[39m=\u001b[39m calculate_length_distribution(cg_configs)\n",
      "Cell \u001b[0;32mIn[14], line 10\u001b[0m, in \u001b[0;36mcoarse_grain\u001b[0;34m(configurations, lambda_)\u001b[0m\n\u001b[1;32m      7\u001b[0m     coarse_grained_config \u001b[39m=\u001b[39m np\u001b[39m.\u001b[39mzeros((N_lambda, \u001b[39m3\u001b[39m))\n\u001b[1;32m      9\u001b[0m     \u001b[39mfor\u001b[39;00m J \u001b[39min\u001b[39;00m \u001b[39mrange\u001b[39m(N_lambda):\n\u001b[0;32m---> 10\u001b[0m         coarse_grained_config[J] \u001b[39m=\u001b[39m np\u001b[39m.\u001b[39;49msum(config[J\u001b[39m*\u001b[39;49m\u001b[39m2\u001b[39;49m\u001b[39m*\u001b[39;49m\u001b[39m*\u001b[39;49mlambda_:(J\u001b[39m+\u001b[39;49m\u001b[39m1\u001b[39;49m)\u001b[39m*\u001b[39;49m\u001b[39m2\u001b[39;49m\u001b[39m*\u001b[39;49m\u001b[39m*\u001b[39;49mlambda_], axis\u001b[39m=\u001b[39;49m\u001b[39m0\u001b[39;49m)\n\u001b[1;32m     12\u001b[0m     coarse_grained_configurations\u001b[39m.\u001b[39mappend(coarse_grained_config)\n\u001b[1;32m     14\u001b[0m \u001b[39mreturn\u001b[39;00m coarse_grained_configurations\n",
      "File \u001b[0;32m/usr/local/lib/python3.9/dist-packages/numpy/core/fromnumeric.py:2313\u001b[0m, in \u001b[0;36msum\u001b[0;34m(a, axis, dtype, out, keepdims, initial, where)\u001b[0m\n\u001b[1;32m   2310\u001b[0m         \u001b[39mreturn\u001b[39;00m out\n\u001b[1;32m   2311\u001b[0m     \u001b[39mreturn\u001b[39;00m res\n\u001b[0;32m-> 2313\u001b[0m \u001b[39mreturn\u001b[39;00m _wrapreduction(a, np\u001b[39m.\u001b[39;49madd, \u001b[39m'\u001b[39;49m\u001b[39msum\u001b[39;49m\u001b[39m'\u001b[39;49m, axis, dtype, out, keepdims\u001b[39m=\u001b[39;49mkeepdims,\n\u001b[1;32m   2314\u001b[0m                       initial\u001b[39m=\u001b[39;49minitial, where\u001b[39m=\u001b[39;49mwhere)\n",
      "File \u001b[0;32m/usr/local/lib/python3.9/dist-packages/numpy/core/fromnumeric.py:72\u001b[0m, in \u001b[0;36m_wrapreduction\u001b[0;34m(obj, ufunc, method, axis, dtype, out, **kwargs)\u001b[0m\n\u001b[1;32m     71\u001b[0m \u001b[39mdef\u001b[39;00m \u001b[39m_wrapreduction\u001b[39m(obj, ufunc, method, axis, dtype, out, \u001b[39m*\u001b[39m\u001b[39m*\u001b[39mkwargs):\n\u001b[0;32m---> 72\u001b[0m     passkwargs \u001b[39m=\u001b[39m {k: v \u001b[39mfor\u001b[39;00m k, v \u001b[39min\u001b[39;00m kwargs\u001b[39m.\u001b[39mitems()\n\u001b[1;32m     73\u001b[0m                   \u001b[39mif\u001b[39;00m v \u001b[39mis\u001b[39;00m \u001b[39mnot\u001b[39;00m np\u001b[39m.\u001b[39m_NoValue}\n\u001b[1;32m     75\u001b[0m     \u001b[39mif\u001b[39;00m \u001b[39mtype\u001b[39m(obj) \u001b[39mis\u001b[39;00m \u001b[39mnot\u001b[39;00m mu\u001b[39m.\u001b[39mndarray:\n\u001b[1;32m     76\u001b[0m         \u001b[39mtry\u001b[39;00m:\n",
      "File \u001b[0;32m/usr/local/lib/python3.9/dist-packages/numpy/core/fromnumeric.py:73\u001b[0m, in \u001b[0;36m<dictcomp>\u001b[0;34m(.0)\u001b[0m\n\u001b[1;32m     71\u001b[0m \u001b[39mdef\u001b[39;00m \u001b[39m_wrapreduction\u001b[39m(obj, ufunc, method, axis, dtype, out, \u001b[39m*\u001b[39m\u001b[39m*\u001b[39mkwargs):\n\u001b[1;32m     72\u001b[0m     passkwargs \u001b[39m=\u001b[39m {k: v \u001b[39mfor\u001b[39;00m k, v \u001b[39min\u001b[39;00m kwargs\u001b[39m.\u001b[39mitems()\n\u001b[0;32m---> 73\u001b[0m                   \u001b[39mif\u001b[39;00m v \u001b[39mis\u001b[39;00m \u001b[39mnot\u001b[39;00m np\u001b[39m.\u001b[39;49m_NoValue}\n\u001b[1;32m     75\u001b[0m     \u001b[39mif\u001b[39;00m \u001b[39mtype\u001b[39m(obj) \u001b[39mis\u001b[39;00m \u001b[39mnot\u001b[39;00m mu\u001b[39m.\u001b[39mndarray:\n\u001b[1;32m     76\u001b[0m         \u001b[39mtry\u001b[39;00m:\n",
      "\u001b[0;31mKeyboardInterrupt\u001b[0m: "
     ]
    }
   ],
   "source": [
    "import matplotlib.pyplot as plt\n",
    "\n",
    "# let's assume you have these lists\n",
    "lambdas = [1, 2, 4, 8, 16, 32, 64, 128]  # degrees of coarse-graining\n",
    "epsilons = []  # list of epsilon_lambda values for each lambda\n",
    "l_lengths = []  # list of l_lambda values for each lambda\n",
    "sigmas_squared = []  # list of sigma_lambda^2 values for each lambda\n",
    "\n",
    "for lambda_ in lambdas:\n",
    "    # Coarse grain the configurations\n",
    "    cg_configs = coarse_grain(configurations, lambda_)\n",
    "\n",
    "    # Calculate length distribution\n",
    "    l_lambda, sigma_lambda = calculate_length_distribution(cg_configs)\n",
    "    l_lengths.append(l_lambda)\n",
    "    sigmas_squared.append(sigma_lambda**2)\n",
    "\n",
    "    # Calculate bond angle autocorrelation for Delta_J=1 and derive epsilon_lambda\n",
    "    # This is a simplification, you may need a more complex procedure to estimate epsilon_lambda\n",
    "    C_lambda = calculate_bond_angle_autocorrelation(cg_configs, 1)\n",
    "    epsilon_lambda = -np.log(C_lambda)  # or another appropriate formula\n",
    "    epsilons.append(epsilon_lambda)\n",
    "\n",
    "# Now plot epsilon_lambda, l_lambda and sigma_lambda^2 against lambda\n",
    "\n",
    "plt.figure(figsize=(15, 5))\n",
    "\n",
    "plt.subplot(131)\n",
    "plt.plot(lambdas, epsilons, 'o-')\n",
    "plt.xlabel('Degree of coarse-graining (lambda)')\n",
    "plt.ylabel('Epsilon_lambda')\n",
    "plt.grid()\n",
    "\n",
    "plt.subplot(132)\n",
    "plt.plot(lambdas, l_lengths, 'o-')\n",
    "plt.xlabel('Degree of coarse-graining (lambda)')\n",
    "plt.ylabel('l_lambda')\n",
    "plt.grid()\n",
    "\n",
    "plt.subplot(133)\n",
    "plt.plot(lambdas, sigmas_squared, 'o-')\n",
    "plt.xlabel('Degree of coarse-graining (lambda)')\n",
    "plt.ylabel('Sigma_lambda^2')\n",
    "plt.grid()\n",
    "\n",
    "plt.tight_layout()\n",
    "plt.show()\n"
   ]
  },
  {
   "cell_type": "code",
   "execution_count": 24,
   "metadata": {},
   "outputs": [
    {
     "ename": "KeyboardInterrupt",
     "evalue": "",
     "output_type": "error",
     "traceback": [
      "\u001b[0;31m---------------------------------------------------------------------------\u001b[0m",
      "\u001b[0;31mKeyboardInterrupt\u001b[0m                         Traceback (most recent call last)",
      "Cell \u001b[0;32mIn[24], line 12\u001b[0m\n\u001b[1;32m      9\u001b[0m sigma_values \u001b[39m=\u001b[39m []\n\u001b[1;32m     11\u001b[0m \u001b[39mfor\u001b[39;00m lambda_ \u001b[39min\u001b[39;00m lambda_values:\n\u001b[0;32m---> 12\u001b[0m     coarse_grained_configurations \u001b[39m=\u001b[39m coarse_grain(configurations, lambda_)\n\u001b[1;32m     13\u001b[0m     l_lambda, sigma_lambda \u001b[39m=\u001b[39m calculate_length_distribution(coarse_grained_configurations)\n\u001b[1;32m     14\u001b[0m     C_lambda \u001b[39m=\u001b[39m calculate_bond_angle_autocorrelation(coarse_grained_configurations, Delta_J\u001b[39m=\u001b[39m\u001b[39m1\u001b[39m)  \u001b[39m# Assume Delta_J=1, change as needed\u001b[39;00m\n",
      "Cell \u001b[0;32mIn[14], line 10\u001b[0m, in \u001b[0;36mcoarse_grain\u001b[0;34m(configurations, lambda_)\u001b[0m\n\u001b[1;32m      7\u001b[0m     coarse_grained_config \u001b[39m=\u001b[39m np\u001b[39m.\u001b[39mzeros((N_lambda, \u001b[39m3\u001b[39m))\n\u001b[1;32m      9\u001b[0m     \u001b[39mfor\u001b[39;00m J \u001b[39min\u001b[39;00m \u001b[39mrange\u001b[39m(N_lambda):\n\u001b[0;32m---> 10\u001b[0m         coarse_grained_config[J] \u001b[39m=\u001b[39m np\u001b[39m.\u001b[39;49msum(config[J\u001b[39m*\u001b[39;49m\u001b[39m2\u001b[39;49m\u001b[39m*\u001b[39;49m\u001b[39m*\u001b[39;49mlambda_:(J\u001b[39m+\u001b[39;49m\u001b[39m1\u001b[39;49m)\u001b[39m*\u001b[39;49m\u001b[39m2\u001b[39;49m\u001b[39m*\u001b[39;49m\u001b[39m*\u001b[39;49mlambda_], axis\u001b[39m=\u001b[39;49m\u001b[39m0\u001b[39;49m)\n\u001b[1;32m     12\u001b[0m     coarse_grained_configurations\u001b[39m.\u001b[39mappend(coarse_grained_config)\n\u001b[1;32m     14\u001b[0m \u001b[39mreturn\u001b[39;00m coarse_grained_configurations\n",
      "File \u001b[0;32m/usr/local/lib/python3.9/dist-packages/numpy/core/fromnumeric.py:2313\u001b[0m, in \u001b[0;36msum\u001b[0;34m(a, axis, dtype, out, keepdims, initial, where)\u001b[0m\n\u001b[1;32m   2310\u001b[0m         \u001b[39mreturn\u001b[39;00m out\n\u001b[1;32m   2311\u001b[0m     \u001b[39mreturn\u001b[39;00m res\n\u001b[0;32m-> 2313\u001b[0m \u001b[39mreturn\u001b[39;00m _wrapreduction(a, np\u001b[39m.\u001b[39;49madd, \u001b[39m'\u001b[39;49m\u001b[39msum\u001b[39;49m\u001b[39m'\u001b[39;49m, axis, dtype, out, keepdims\u001b[39m=\u001b[39;49mkeepdims,\n\u001b[1;32m   2314\u001b[0m                       initial\u001b[39m=\u001b[39;49minitial, where\u001b[39m=\u001b[39;49mwhere)\n",
      "File \u001b[0;32m/usr/local/lib/python3.9/dist-packages/numpy/core/fromnumeric.py:88\u001b[0m, in \u001b[0;36m_wrapreduction\u001b[0;34m(obj, ufunc, method, axis, dtype, out, **kwargs)\u001b[0m\n\u001b[1;32m     85\u001b[0m         \u001b[39melse\u001b[39;00m:\n\u001b[1;32m     86\u001b[0m             \u001b[39mreturn\u001b[39;00m reduction(axis\u001b[39m=\u001b[39maxis, out\u001b[39m=\u001b[39mout, \u001b[39m*\u001b[39m\u001b[39m*\u001b[39mpasskwargs)\n\u001b[0;32m---> 88\u001b[0m \u001b[39mreturn\u001b[39;00m ufunc\u001b[39m.\u001b[39;49mreduce(obj, axis, dtype, out, \u001b[39m*\u001b[39m\u001b[39m*\u001b[39mpasskwargs)\n",
      "\u001b[0;31mKeyboardInterrupt\u001b[0m: "
     ]
    }
   ],
   "source": [
    "import numpy as np\n",
    "\n",
    "# Assume you have defined these functions somewhere in your code\n",
    "# calculate_bond_angle_autocorrelation, calculate_length_distribution\n",
    "\n",
    "lambda_values = [1, 2, 4, 8, 16, 32, 64, 128]\n",
    "epsilon_values = []\n",
    "l_values = []\n",
    "sigma_values = []\n",
    "\n",
    "for lambda_ in lambda_values:\n",
    "    coarse_grained_configurations = coarse_grain(configurations, lambda_)\n",
    "    l_lambda, sigma_lambda = calculate_length_distribution(coarse_grained_configurations)\n",
    "    C_lambda = calculate_bond_angle_autocorrelation(coarse_grained_configurations, Delta_J=1)  # Assume Delta_J=1, change as needed\n",
    "    \n",
    "    epsilon_lambda = -np.log(C_lambda)  # This depends on how you relate C_lambda to epsilon_lambda\n",
    "    \n",
    "    epsilon_values.append(epsilon_lambda)\n",
    "    l_values.append(l_lambda)\n",
    "    sigma_values.append(sigma_lambda**2)\n",
    "    \n",
    "    \n",
    "import matplotlib.pyplot as plt\n",
    "\n",
    "plt.figure(figsize=(15, 5))\n",
    "\n",
    "# epsilon_lambda plot\n",
    "plt.subplot(1, 3, 1)\n",
    "plt.plot(lambda_values, epsilon_values, marker='o')\n",
    "plt.xlabel('$\\lambda$')\n",
    "plt.ylabel('$\\epsilon_\\lambda$')\n",
    "plt.title('Variation of $\\epsilon_\\lambda$')\n",
    "\n",
    "# l_lambda plot\n",
    "plt.subplot(1, 3, 2)\n",
    "plt.plot(lambda_values, l_values, marker='o')\n",
    "plt.xlabel('$\\lambda$')\n",
    "plt.ylabel('$l_\\lambda$')\n",
    "plt.title('Variation of $l_\\lambda$')\n",
    "\n",
    "# sigma_lambda^2 plot\n",
    "plt.subplot(1, 3, 3)\n",
    "plt.plot(lambda_values, sigma_values, marker='o')\n",
    "plt.xlabel('$\\lambda$')\n",
    "plt.ylabel('$\\sigma_\\lambda^2$')\n",
    "plt.title('Variation of $\\sigma_\\lambda^2$')\n",
    "\n",
    "plt.tight_layout()\n",
    "plt.show()\n",
    "\n"
   ]
  },
  {
   "cell_type": "code",
   "execution_count": 25,
   "metadata": {},
   "outputs": [
    {
     "name": "stderr",
     "output_type": "stream",
     "text": [
      "  0%|          | 0/8 [00:06<?, ?it/s]\n"
     ]
    },
    {
     "ename": "KeyboardInterrupt",
     "evalue": "",
     "output_type": "error",
     "traceback": [
      "\u001b[0;31m---------------------------------------------------------------------------\u001b[0m",
      "\u001b[0;31mIndexError\u001b[0m                                Traceback (most recent call last)",
      "File \u001b[0;32m/usr/lib/python3.9/multiprocessing/pool.py:853\u001b[0m, in \u001b[0;36mIMapIterator.next\u001b[0;34m(self, timeout)\u001b[0m\n\u001b[1;32m    852\u001b[0m \u001b[39mtry\u001b[39;00m:\n\u001b[0;32m--> 853\u001b[0m     item \u001b[39m=\u001b[39m \u001b[39mself\u001b[39;49m\u001b[39m.\u001b[39;49m_items\u001b[39m.\u001b[39;49mpopleft()\n\u001b[1;32m    854\u001b[0m \u001b[39mexcept\u001b[39;00m \u001b[39mIndexError\u001b[39;00m:\n",
      "\u001b[0;31mIndexError\u001b[0m: pop from an empty deque",
      "\nDuring handling of the above exception, another exception occurred:\n",
      "\u001b[0;31mKeyboardInterrupt\u001b[0m                         Traceback (most recent call last)",
      "Cell \u001b[0;32mIn[25], line 74\u001b[0m\n\u001b[1;32m     67\u001b[0m \u001b[39m# Load or generate your initial polymer configurations\u001b[39;00m\n\u001b[1;32m     68\u001b[0m \u001b[39m# configurations = ...\u001b[39;00m\n\u001b[1;32m     69\u001b[0m \n\u001b[1;32m     70\u001b[0m \u001b[39m# Create a Pool object\u001b[39;00m\n\u001b[1;32m     71\u001b[0m \u001b[39mwith\u001b[39;00m Pool() \u001b[39mas\u001b[39;00m p:\n\u001b[1;32m     72\u001b[0m     \u001b[39m# map applies the function to all inputs, but p.imap_unordered applies it to all inputs in parallel.\u001b[39;00m\n\u001b[1;32m     73\u001b[0m     \u001b[39m# tqdm(list(...)) will display a progress bar for the computations.\u001b[39;00m\n\u001b[0;32m---> 74\u001b[0m     results \u001b[39m=\u001b[39m \u001b[39mlist\u001b[39;49m(tqdm(p\u001b[39m.\u001b[39;49mimap(calculate_quantities, lambdas), total\u001b[39m=\u001b[39;49m\u001b[39mlen\u001b[39;49m(lambdas)))\n\u001b[1;32m     76\u001b[0m \u001b[39m# Now, we can split the results into separate lists for each quantity\u001b[39;00m\n\u001b[1;32m     77\u001b[0m epsilons, l_lambdas, sigma_lambdas \u001b[39m=\u001b[39m \u001b[39mzip\u001b[39m(\u001b[39m*\u001b[39mresults)\n",
      "File \u001b[0;32m/usr/local/lib/python3.9/dist-packages/tqdm/std.py:1178\u001b[0m, in \u001b[0;36mtqdm.__iter__\u001b[0;34m(self)\u001b[0m\n\u001b[1;32m   1175\u001b[0m time \u001b[39m=\u001b[39m \u001b[39mself\u001b[39m\u001b[39m.\u001b[39m_time\n\u001b[1;32m   1177\u001b[0m \u001b[39mtry\u001b[39;00m:\n\u001b[0;32m-> 1178\u001b[0m     \u001b[39mfor\u001b[39;00m obj \u001b[39min\u001b[39;00m iterable:\n\u001b[1;32m   1179\u001b[0m         \u001b[39myield\u001b[39;00m obj\n\u001b[1;32m   1180\u001b[0m         \u001b[39m# Update and possibly print the progressbar.\u001b[39;00m\n\u001b[1;32m   1181\u001b[0m         \u001b[39m# Note: does not call self.update(1) for speed optimisation.\u001b[39;00m\n",
      "File \u001b[0;32m/usr/lib/python3.9/multiprocessing/pool.py:858\u001b[0m, in \u001b[0;36mIMapIterator.next\u001b[0;34m(self, timeout)\u001b[0m\n\u001b[1;32m    856\u001b[0m     \u001b[39mself\u001b[39m\u001b[39m.\u001b[39m_pool \u001b[39m=\u001b[39m \u001b[39mNone\u001b[39;00m\n\u001b[1;32m    857\u001b[0m     \u001b[39mraise\u001b[39;00m \u001b[39mStopIteration\u001b[39;00m \u001b[39mfrom\u001b[39;00m \u001b[39mNone\u001b[39;00m\n\u001b[0;32m--> 858\u001b[0m \u001b[39mself\u001b[39;49m\u001b[39m.\u001b[39;49m_cond\u001b[39m.\u001b[39;49mwait(timeout)\n\u001b[1;32m    859\u001b[0m \u001b[39mtry\u001b[39;00m:\n\u001b[1;32m    860\u001b[0m     item \u001b[39m=\u001b[39m \u001b[39mself\u001b[39m\u001b[39m.\u001b[39m_items\u001b[39m.\u001b[39mpopleft()\n",
      "File \u001b[0;32m/usr/lib/python3.9/threading.py:312\u001b[0m, in \u001b[0;36mCondition.wait\u001b[0;34m(self, timeout)\u001b[0m\n\u001b[1;32m    310\u001b[0m \u001b[39mtry\u001b[39;00m:    \u001b[39m# restore state no matter what (e.g., KeyboardInterrupt)\u001b[39;00m\n\u001b[1;32m    311\u001b[0m     \u001b[39mif\u001b[39;00m timeout \u001b[39mis\u001b[39;00m \u001b[39mNone\u001b[39;00m:\n\u001b[0;32m--> 312\u001b[0m         waiter\u001b[39m.\u001b[39;49macquire()\n\u001b[1;32m    313\u001b[0m         gotit \u001b[39m=\u001b[39m \u001b[39mTrue\u001b[39;00m\n\u001b[1;32m    314\u001b[0m     \u001b[39melse\u001b[39;00m:\n",
      "\u001b[0;31mKeyboardInterrupt\u001b[0m: "
     ]
    }
   ],
   "source": [
    "import matplotlib.pyplot as plt\n",
    "\n",
    "def plot_RG_flow(lambdas, epsilons, l_lambdas, sigma_lambdas):\n",
    "    x_values = 2**(-np.array(lambdas))\n",
    "\n",
    "    plt.figure(figsize=(10, 6))\n",
    "\n",
    "    plt.plot(x_values, epsilons, label=\"epsilon\")\n",
    "    plt.plot(x_values, l_lambdas, label=\"l\")\n",
    "    plt.plot(x_values, sigma_lambdas**2 * x_values, label=\"sigma^2 * 2^-lambda\")\n",
    "\n",
    "    plt.xscale('log')\n",
    "    plt.yscale('log')\n",
    "\n",
    "    plt.xlabel(\"2^-lambda\")\n",
    "    plt.ylabel(\"Value\")\n",
    "\n",
    "    plt.legend()\n",
    "\n",
    "    plt.show()\n",
    "\n",
    "import numpy as np\n",
    "from multiprocessing import Pool\n",
    "from tqdm import tqdm\n",
    "\n",
    "import matplotlib.pyplot as plt\n",
    "\n",
    "def plot_RG_flow(lambdas, epsilons, l_lambdas, sigma_lambdas):\n",
    "    x_values = 1 / np.array(lambdas)  # Calculate the inverse of lambdas\n",
    "\n",
    "    plt.figure(figsize=(10, 6))\n",
    "    plt.plot(x_values, epsilons, label=\"epsilon\")\n",
    "    plt.plot(x_values, l_lambdas, label=\"l_lambda\")\n",
    "    plt.plot(x_values, sigma_lambdas, label=\"sigma_lambda\")\n",
    "    plt.xlabel(\"1 / lambda\")\n",
    "    plt.ylabel(\"Quantity\")\n",
    "    plt.legend()\n",
    "    plt.show()\n",
    "\n",
    "\n",
    "def calculate_quantities(lambda_):\n",
    "    # Coarse grain the configurations\n",
    "    coarse_grained_configurations = coarse_grain(configurations, lambda_)\n",
    "\n",
    "    # Calculate l_lambda and sigma_lambda\n",
    "    l_lambda, sigma_lambda = calculate_length_distribution(coarse_grained_configurations)\n",
    "\n",
    "    # Calculate epsilon_lambda (autocorrelation of the unit vectors)\n",
    "    # Note: you might want to choose an appropriate value for Delta_J\n",
    "    Delta_J = 1\n",
    "\n",
    "    try:\n",
    "        epsilon_lambda = calculate_bond_angle_autocorrelation(coarse_grained_configurations, Delta_J)\n",
    "    except ZeroDivisionError:\n",
    "        epsilon_lambda = np.nan  # Assign NaN if division by zero occurs\n",
    "\n",
    "    return epsilon_lambda, l_lambda, sigma_lambda\n",
    "\n",
    "# This is the range of lambda values you're interested in\n",
    "lambdas = range(0, 8)\n",
    "\n",
    "# Here, I'm initializing lists to hold the calculated quantities for each lambda\n",
    "epsilons = []\n",
    "l_lambdas = []\n",
    "sigma_lambdas = []\n",
    "\n",
    "# Load or generate your initial polymer configurations\n",
    "# configurations = ...\n",
    "\n",
    "# Create a Pool object\n",
    "with Pool() as p:\n",
    "    # map applies the function to all inputs, but p.imap_unordered applies it to all inputs in parallel.\n",
    "    # tqdm(list(...)) will display a progress bar for the computations.\n",
    "    results = list(tqdm(p.imap(calculate_quantities, lambdas), total=len(lambdas)))\n",
    "\n",
    "# Now, we can split the results into separate lists for each quantity\n",
    "epsilons, l_lambdas, sigma_lambdas = zip(*results)\n",
    "\n",
    "# Now you can plot the RG flow\n",
    "plot_RG_flow(lambdas, epsilons, l_lambdas, sigma_lambdas)"
   ]
  },
  {
   "cell_type": "code",
   "execution_count": null,
   "metadata": {},
   "outputs": [],
   "source": [
    "%%bash\n",
    "/root/vsc_projects/PhyforDS/UniKurs_Phy-for-DS/Softmatter/sgh.sh"
   ]
  },
  {
   "attachments": {},
   "cell_type": "markdown",
   "metadata": {
    "editable": true,
    "slideshow": {
     "slide_type": ""
    },
    "tags": []
   },
   "source": []
  }
 ],
 "metadata": {
  "kernelspec": {
   "display_name": "Python 3 (ipykernel)",
   "language": "python",
   "name": "python3"
  },
  "language_info": {
   "codemirror_mode": {
    "name": "ipython",
    "version": 3
   },
   "file_extension": ".py",
   "mimetype": "text/x-python",
   "name": "python",
   "nbconvert_exporter": "python",
   "pygments_lexer": "ipython3",
   "version": "3.9.2"
  }
 },
 "nbformat": 4,
 "nbformat_minor": 4
}
