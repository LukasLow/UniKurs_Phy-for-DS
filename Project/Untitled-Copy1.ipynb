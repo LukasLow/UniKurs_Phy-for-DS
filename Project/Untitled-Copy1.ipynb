{
 "cells": [
  {
   "cell_type": "code",
   "execution_count": 1,
   "id": "c075ee6c-17ce-467a-9c06-b9cebcf080aa",
   "metadata": {},
   "outputs": [],
   "source": [
    "import numpy as np\n",
    "\n",
    "class HopfieldNetwork:\n",
    "    def __init__(self, dimensions):\n",
    "        self.dimensions = dimensions\n",
    "        self.weights = np.zeros((dimensions, dimensions))\n",
    "\n",
    "    def train(self, patterns):\n",
    "        for pattern in patterns:\n",
    "            pattern = pattern.flatten()\n",
    "            self.weights += np.outer(pattern, pattern)\n",
    "        np.fill_diagonal(self.weights, 0)\n",
    "\n",
    "    def recall(self, pattern, iterations=5):\n",
    "        pattern = pattern.flatten()\n",
    "        for _ in range(iterations):\n",
    "            for i in range(self.dimensions):\n",
    "                raw_output = np.dot(self.weights[i], pattern)\n",
    "                if raw_output > 0:\n",
    "                    pattern[i] = 1\n",
    "                else:\n",
    "                    pattern[i] = -1\n",
    "        return pattern.reshape((int(np.sqrt(self.dimensions)), int(np.sqrt(self.dimensions))))\n",
    "\n",
    "# Initialisiere ein Hopfield-Netzwerk für Bilder der Größe 16x16\n",
    "network = HopfieldNetwork(16*16)\n"
   ]
  },
  {
   "cell_type": "code",
   "execution_count": 2,
   "id": "97f72a0f-07a7-41a7-b3f6-6fddd7362ebe",
   "metadata": {
    "editable": true,
    "slideshow": {
     "slide_type": ""
    },
    "tags": []
   },
   "outputs": [
    {
     "name": "stderr",
     "output_type": "stream",
     "text": [
      "2023-07-08 07:17:50.396608: I tensorflow/tsl/cuda/cudart_stub.cc:28] Could not find cuda drivers on your machine, GPU will not be used.\n",
      "2023-07-08 07:17:50.430371: I tensorflow/tsl/cuda/cudart_stub.cc:28] Could not find cuda drivers on your machine, GPU will not be used.\n",
      "2023-07-08 07:17:50.430804: I tensorflow/core/platform/cpu_feature_guard.cc:182] This TensorFlow binary is optimized to use available CPU instructions in performance-critical operations.\n",
      "To enable the following instructions: AVX2 FMA, in other operations, rebuild TensorFlow with the appropriate compiler flags.\n",
      "2023-07-08 07:17:51.208354: W tensorflow/compiler/tf2tensorrt/utils/py_utils.cc:38] TF-TRT Warning: Could not find TensorRT\n"
     ]
    }
   ],
   "source": [
    "from tensorflow.keras.datasets import mnist\n",
    "\n",
    "# Lade das MNIST-Datensatz herunter\n",
    "(x_train, y_train), (x_test, y_test) = mnist.load_data()\n",
    "\n",
    "# Normalisiere die Daten auf -1 bis 1\n",
    "x_train = x_train / 127.5 - 1\n",
    "x_test = x_test / 127.5 - 1\n",
    "\n",
    "# Flattene die Bilder\n",
    "x_train = x_train.reshape((len(x_train), -1))\n",
    "x_test = x_test.reshape((len(x_test), -1))\n"
   ]
  },
  {
   "cell_type": "code",
   "execution_count": 3,
   "id": "966dc665-f195-45f8-8841-be44434a0c9a",
   "metadata": {
    "editable": true,
    "slideshow": {
     "slide_type": ""
    },
    "tags": []
   },
   "outputs": [],
   "source": [
    "# Erstelle ein Hopfield-Netzwerk\n",
    "network = HopfieldNetwork(28*28)\n",
    "\n",
    "# Trainiere das Netzwerk mit den Trainingsdaten\n",
    "network.train(x_train)\n"
   ]
  },
  {
   "cell_type": "code",
   "execution_count": 4,
   "id": "eaf13702-7cca-4af9-9a28-a89de29af1e7",
   "metadata": {},
   "outputs": [],
   "source": [
    "# Wähle ein zufälliges Bild aus dem Testset\n",
    "input_image = np.copy(x_test[np.random.choice(len(x_test))])\n",
    "\n",
    "# Füge Rauschen hinzu, indem du zufällig einige Pixel umdrehst\n",
    "# Hierbei wird nur mit einer Wahrscheinlichkeit von 10% ein Pixel umgedreht\n",
    "noise_indices = np.random.choice([True, False], size=input_image.shape, p=[0.0, 1.0])\n",
    "input_image[noise_indices] = -input_image[noise_indices]"
   ]
  },
  {
   "cell_type": "code",
   "execution_count": 5,
   "id": "74bfeadc-7654-4ba4-bc79-bccdae1ae375",
   "metadata": {},
   "outputs": [],
   "source": [
    "# Versuche, das ursprüngliche Bild zurückzurufen\n",
    "output_image = network.recall(input_image)\n"
   ]
  },
  {
   "cell_type": "code",
   "execution_count": 6,
   "id": "9ab6c79a-a435-4e90-9ab8-11c7b85eff35",
   "metadata": {
    "editable": true,
    "slideshow": {
     "slide_type": ""
    },
    "tags": []
   },
   "outputs": [
    {
     "data": {
      "image/png": "[encoded data removed]",
      "text/plain": [
       "<Figure size 1000x500 with 2 Axes>"
      ]
     },
     "metadata": {},
     "output_type": "display_data"
    }
   ],
   "source": [
    "import matplotlib.pyplot as plt\n",
    "\n",
    "# Umforme die Bilder in ihre ursprüngliche Form von 28x28\n",
    "input_image = input_image.reshape((28, 28))\n",
    "output_image = output_image.reshape((28, 28))\n",
    "\n",
    "plt.figure(figsize=(10, 5))\n",
    "\n",
    "plt.subplot(1, 2, 1)\n",
    "plt.title('Input Image')\n",
    "plt.imshow(input_image, cmap='gray')\n",
    "\n",
    "plt.subplot(1, 2, 2)\n",
    "plt.title('Output Image')\n",
    "plt.imshow(output_image, cmap='gray')\n",
    "\n",
    "plt.show()\n"
   ]
  }
 ],
 "metadata": {
  "kernelspec": {
   "display_name": "Python 3 (ipykernel)",
   "language": "python",
   "name": "python3"
  },
  "language_info": {
   "codemirror_mode": {
    "name": "ipython",
    "version": 3
   },
   "file_extension": ".py",
   "mimetype": "text/x-python",
   "name": "python",
   "nbconvert_exporter": "python",
   "pygments_lexer": "ipython3",
   "version": "3.11.4"
  }
 },
 "nbformat": 4,
 "nbformat_minor": 5
}
